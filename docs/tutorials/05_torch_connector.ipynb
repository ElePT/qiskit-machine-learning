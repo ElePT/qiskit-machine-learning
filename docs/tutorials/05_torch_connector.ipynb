{
 "cells": [
  {
   "cell_type": "markdown",
   "id": "4298cc79",
   "metadata": {},
   "source": [
    "# Torch Connector and Hybrid QNNs\n",
    "\n",
    "This tutorial introduces Qiskit's `TorchConnector` class, and demonstrates how the `TorchConnector` allows for a natural integration of any `NeuralNetwork` from Qiskit Machine Learning into a PyTorch workflow. `TorchConnector` takes a Qiskit `NeuralNetwork` and makes it available as a PyTorch `Module`. The resulting module can be seamlessly incorporated into PyTorch classical architectures and trained jointly without additional considerations, enabling the development and testing of novel **hybrid quantum-classical** machine learning architectures.\n",
    "\n",
    "## Content:\n",
    "\n",
    "[Part 1: Simple Classification & Regression](#Part-1:-Simple-Classification-&-Regression)\n",
    "\n",
    "The first part of this tutorial shows how quantum neural networks can be trained using PyTorch's automatic differentiation engine (`torch.autograd`, [link](https://pytorch.org/tutorials/beginner/blitz/autograd_tutorial.html)) for simple classification and regression tasks. \n",
    "\n",
    "1. [Classification](#1.-Classification)\n",
    "    1. Classification with PyTorch and `OpflowQNN`\n",
    "    2. Classification with PyTorch and `CircuitQNN`\n",
    "2. [Regression](#2.-Regression)\n",
    "    1. Regression with PyTorch and `OpflowQNN`\n",
    "\n",
    "[Part 2: MNIST Classification, Hybrid QNNs](#Part-2:-MNIST-Classification,-Hybrid-QNNs)\n",
    "\n",
    "The second part of this tutorial illustrates how to embed a (Quantum) `NeuralNetwork` into a target PyTorch workflow (in this case, a typical CNN architecture) to classify MNIST data in a hybrid quantum-classical manner.\n",
    "\n",
    "***"
   ]
  },
  {
   "cell_type": "code",
   "execution_count": 1,
   "id": "e3f00d25",
   "metadata": {},
   "outputs": [],
   "source": [
    "# Necessary imports\n",
    "\n",
    "import numpy as np\n",
    "import matplotlib.pyplot as plt\n",
    "\n",
    "from torch import Tensor\n",
    "from torch.nn import Linear, CrossEntropyLoss, MSELoss\n",
    "from torch.optim import LBFGS\n",
    "\n",
    "from qiskit  import Aer, QuantumCircuit\n",
    "from qiskit.utils import QuantumInstance\n",
    "from qiskit.opflow import AerPauliExpectation\n",
    "from qiskit.circuit import Parameter\n",
    "from qiskit.circuit.library import RealAmplitudes, ZZFeatureMap\n",
    "from qiskit_machine_learning.neural_networks import CircuitQNN, TwoLayerQNN\n",
    "from qiskit_machine_learning.connectors import TorchConnector\n",
    "\n",
    "# declare quantum instance\n",
    "qi = QuantumInstance(Aer.get_backend('aer_simulator_statevector'))"
   ]
  },
  {
   "cell_type": "markdown",
   "id": "dd3cd709",
   "metadata": {},
   "source": [
    "## Part 1: Simple Classification & Regression"
   ]
  },
  {
   "cell_type": "markdown",
   "id": "1f0187a5",
   "metadata": {},
   "source": [
    "### 1. Classification\n",
    "\n",
    "First, we show how `TorchConnector` allows to train a Quantum `NeuralNetwork` to solve a classification tasks using PyTorch's automatic differentiation engine. In order to illustrate this, we will perform **binary classification** on a randomly generated dataset."
   ]
  },
  {
   "cell_type": "code",
   "execution_count": 2,
   "id": "f2d3e301",
   "metadata": {},
   "outputs": [
    {
     "data": {
      "image/png": "[encoded data removed]",
      "text/plain": [
       "<Figure size 432x288 with 1 Axes>"
      ]
     },
     "metadata": {
      "needs_background": "light"
     },
     "output_type": "display_data"
    }
   ],
   "source": [
    "# Generate random dataset\n",
    "\n",
    "# Set seed for random dataset\n",
    "np.random.seed(5)\n",
    "\n",
    "# Select dataset dimension (num_inputs) and size (num_samples)\n",
    "num_inputs = 2\n",
    "num_samples = 20\n",
    "\n",
    "# Generate random input coordinates (X) and binary labels (y)\n",
    "X = 2*np.random.rand(num_samples, num_inputs) - 1\n",
    "y01 = 1*(np.sum(X, axis=1) >= 0)  # in { 0,  1}, y01 will be used for CircuitQNN example\n",
    "y = 2*y01-1                       # in {-1, +1}, y will be used for OplowQNN example\n",
    "\n",
    "# Convert to torch Tensors\n",
    "X_ = Tensor(X)\n",
    "y01_ = Tensor(y01).reshape(len(y)).long()\n",
    "y_ = Tensor(y).reshape(len(y), 1)\n",
    "\n",
    "# Plot dataset\n",
    "for x, y_target in zip(X, y):\n",
    "    if y_target == 1:\n",
    "        plt.plot(x[0], x[1], 'bo')\n",
    "    else:\n",
    "        plt.plot(x[0], x[1], 'go')\n",
    "plt.plot([-1, 1], [1, -1], '--', color='black')\n",
    "plt.show()"
   ]
  },
  {
   "cell_type": "markdown",
   "id": "8728ca66",
   "metadata": {},
   "source": [
    "#### A. Classification with PyTorch and  `OpflowQNN`\n",
    "\n",
    "Linking an `OpflowQNN` to PyTorch is relatively straightforward. Here we illustrate this using the `TwoLayerQNN`, a sub-case of `OpflowQNN` introduced in previous tutorials."
   ]
  },
  {
   "cell_type": "code",
   "execution_count": 3,
   "id": "df7e657f",
   "metadata": {},
   "outputs": [
    {
     "name": "stdout",
     "output_type": "stream",
     "text": [
      "ComposedOp([\n",
      "  OperatorMeasurement(1.0 * ZZ),\n",
      "  CircuitStateFn(\n",
      "       ┌────────────────────┐┌──────────────────────────────────────────────────┐\n",
      "  q_0: ┤0                   ├┤0                                                 ├\n",
      "       │  nlocal(x[0],x[1]) ││  nlocal(θ[0],θ[1],θ[2],θ[3],θ[4],θ[5],θ[6],θ[7]) │\n",
      "  q_1: ┤1                   ├┤1                                                 ├\n",
      "       └────────────────────┘└──────────────────────────────────────────────────┘\n",
      "  )\n",
      "])\n",
      "Initial weights:  [ 0.05426413 -0.09584961  0.02672965  0.04976078 -0.0002986  -0.05504067\n",
      " -0.06038743  0.05210614]\n"
     ]
    }
   ],
   "source": [
    "# Set up QNN\n",
    "# Note: we are not providing them explicitly in this examples, \n",
    "# but TwoLayerQNN requires a feature_map and ansatz to work.\n",
    "# By default, these parameters are set to  ZZFeatureMap \n",
    "# and RealAmplitudes (respectively).\n",
    "qnn1 = TwoLayerQNN(num_qubits=num_inputs, quantum_instance=qi)\n",
    "print(qnn1.operator)\n",
    "\n",
    "# Set up PyTorch module\n",
    "# Note: If we don't explicitly declare the initial weights \n",
    "# they are chosen uniformly at random from [-1, 1].\n",
    "np.random.seed(10) \n",
    "initial_weights = 0.1*(2*np.random.rand(qnn1.num_weights) - 1)\n",
    "model1 = TorchConnector(qnn1, initial_weights=initial_weights)\n",
    "print(\"Initial weights: \", initial_weights)"
   ]
  },
  {
   "cell_type": "code",
   "execution_count": 4,
   "id": "63af0fa6",
   "metadata": {},
   "outputs": [
    {
     "data": {
      "text/plain": [
       "tensor([-0.0605], grad_fn=<_TorchNNFunctionBackward>)"
      ]
     },
     "execution_count": 4,
     "metadata": {},
     "output_type": "execute_result"
    }
   ],
   "source": [
    "# Test with a single input\n",
    "model1(X_[0, :])"
   ]
  },
  {
   "cell_type": "markdown",
   "id": "ae2cdd4e",
   "metadata": {},
   "source": [
    "##### Optimizer\n",
    "The choice of optimizer for training any machine learning model can be crucial in determining the success of our training's outcome. When using `TorchConnector`, we get access to all of the optimizer algorithms defined in the [`torch.optim`] package ([link](https://pytorch.org/docs/stable/optim.html)). Some of the most famous algorithms used in popular machine learning architectures include *Adam*, *SGD*, or *Adagrad*. However, for this tutorial we will be using the L-BFGS algorithm (`torch.optim.LBFGS`), one of the most well know second-order optimization algorithms for numerical optimization. \n",
    "\n",
    "##### Loss Function\n",
    "As for the loss function, we can also take advantage of PyTorch's pre-defined modules from `torch.nn`, such as the [Cross-Entropy](https://pytorch.org/docs/stable/generated/torch.nn.CrossEntropyLoss.html) or [Mean Squared Error](https://pytorch.org/docs/stable/generated/torch.nn.MSELoss.html) losses.\n",
    "\n",
    "\n",
    "**💡 Clarification :** \n",
    "In classical machine learning, the general rule of thumb is to apply a Cross-Entropy loss to classification tasks, and MSE loss to regression tasks. However, this recommendation is given under the assumption that the output of the classification network is a class probability value in the [0,1] range (usually this is achieved  through a Softmax layer). Because the following example for `TwoLayerQNN` does not include such layer, and we don't apply any mapping to the output (the following section shows an example of application of parity mapping with `CircuitQNNs`), the QNN's output can take any value in the range [-1,1]. In case you were wondering, this is the reason why this particular example uses MSELoss for classification despite it not being the norm (but we encourage you to experiment with different loss functions and see how they can impact training results). "
   ]
  },
  {
   "cell_type": "code",
   "execution_count": 5,
   "id": "3c163b60",
   "metadata": {},
   "outputs": [
    {
     "name": "stdout",
     "output_type": "stream",
     "text": [
      "29.044960021972656\n",
      "22.530925750732422\n",
      "17.070236206054688\n",
      "21.93134307861328\n",
      "21.678295135498047\n",
      "24.97601318359375\n",
      "15.265239715576172\n",
      "13.752296447753906\n",
      "13.255653381347656\n",
      "12.734821319580078\n",
      "12.768722534179688\n",
      "12.868743896484375\n",
      "12.7376708984375\n",
      "13.053955078125\n",
      "24.378597259521484\n",
      "23.750835418701172\n",
      "35.056541442871094\n",
      "14.736968994140625\n",
      "23.16448974609375\n",
      "28.539390563964844\n"
     ]
    },
    {
     "data": {
      "text/plain": [
       "tensor(29.0450, grad_fn=<MseLossBackward>)"
      ]
     },
     "execution_count": 5,
     "metadata": {},
     "output_type": "execute_result"
    }
   ],
   "source": [
    "# Define optimizer and loss\n",
    "optimizer = LBFGS(model1.parameters())\n",
    "f_loss = MSELoss(reduction='sum')\n",
    "\n",
    "# Start training\n",
    "model1.train()   # set model to training mode\n",
    "\n",
    "\n",
    "# Note from (https://pytorch.org/docs/stable/optim.html): \n",
    "# Some optimization algorithms such as LBFGS need to \n",
    "# reevaluate the function multiple times, so you have to \n",
    "# pass in a closure that allows them to recompute your model. \n",
    "# The closure should clear the gradients, compute the loss, \n",
    "# and return it.\n",
    "def closure():\n",
    "    optimizer.zero_grad()          # Initialize/clear gradients\n",
    "    loss = f_loss(model1(X_), y_)  # Evaluate loss function\n",
    "    loss.backward()                # Backward pass\n",
    "    print(loss.item())             # Print loss\n",
    "    return loss\n",
    "\n",
    "# Run optimizer step4\n",
    "optimizer.step(closure)"
   ]
  },
  {
   "cell_type": "code",
   "execution_count": 6,
   "id": "0fa82db5",
   "metadata": {},
   "outputs": [
    {
     "name": "stdout",
     "output_type": "stream",
     "text": [
      "Accuracy: 0.6\n"
     ]
    },
    {
     "data": {
      "image/png": "[encoded data removed]",
      "text/plain": [
       "<Figure size 432x288 with 1 Axes>"
      ]
     },
     "metadata": {
      "needs_background": "light"
     },
     "output_type": "display_data"
    }
   ],
   "source": [
    "# Evaluate model and compute accuracy\n",
    "y_predict = []\n",
    "for x, y_target in zip(X, y):\n",
    "    output = model1(Tensor(x))\n",
    "    y_predict += [np.sign(output.detach().numpy())[0]]\n",
    "\n",
    "print('Accuracy:', sum(y_predict == y)/len(y))\n",
    "\n",
    "# Plot results\n",
    "# red == wrongly classified\n",
    "for x, y_target, y_p in zip(X, y, y_predict):\n",
    "    if y_target == 1:\n",
    "        plt.plot(x[0], x[1], 'bo')\n",
    "    else:\n",
    "        plt.plot(x[0], x[1], 'go')\n",
    "    if y_target != y_p:\n",
    "        plt.scatter(x[0], x[1], s=200, facecolors='none', edgecolors='r', linewidths=2)\n",
    "plt.plot([-1, 1], [1, -1], '--', color='black')\n",
    "plt.show()"
   ]
  },
  {
   "cell_type": "markdown",
   "id": "fb029de7",
   "metadata": {},
   "source": [
    "The red circles indicate wrongly classified data points."
   ]
  },
  {
   "cell_type": "markdown",
   "id": "6b8f52d8",
   "metadata": {},
   "source": [
    "#### B. Classification with PyTorch and `CircuitQNN`\n",
    "\n",
    "Linking an `CircuitQNN` to PyTorch requires a bit more attention than `OpflowQNN`. Without the correct setup, backpropagation is not possible. \n",
    "\n",
    "In particular, we must make sure that we are returning a dense array of probabilities in the network's forward pass (`sparse=False`). This parameter is set up to `False` by default, so we just have to make sure that it has not been changed.\n",
    "\n",
    "**⚠️ Attention:** \n",
    "If we define a custom interpret function ( in the example: `parity`), we must remember to explicitly provide the desired output shape ( in the example: `2`). For more info on the initial parameter setup for `CircuitQNN`, please check out the [official qiskit documentation](https://qiskit.org/documentation/machine-learning/stubs/qiskit_machine_learning.neural_networks.CircuitQNN.html)."
   ]
  },
  {
   "cell_type": "code",
   "execution_count": 7,
   "id": "9be4918b",
   "metadata": {},
   "outputs": [
    {
     "name": "stdout",
     "output_type": "stream",
     "text": [
      "Initial weights:  [-0.09792517  0.00037492 -0.00084534 -0.07323409]\n"
     ]
    }
   ],
   "source": [
    "# Define feature map and ansatz\n",
    "feature_map = ZZFeatureMap(num_inputs)\n",
    "ansatz = RealAmplitudes(num_inputs, entanglement='linear', reps=1)\n",
    "\n",
    "# Define quantum circuit of num_qubits = input dim\n",
    "# Append feature map and ansatz\n",
    "qc = QuantumCircuit(num_inputs)\n",
    "qc.append(feature_map, range(num_inputs))\n",
    "qc.append(ansatz, range(num_inputs))\n",
    "\n",
    "\n",
    "# Define CircuitQNN and initial setup\n",
    "parity = lambda x: '{:b}'.format(x).count('1') % 2 # optional interpret function\n",
    "output_shape = 2  # parity = 0, 1\n",
    "qnn2 = CircuitQNN(qc, input_params=feature_map.parameters, weight_params=ansatz.parameters, \n",
    "                  interpret=parity, output_shape=output_shape, quantum_instance=qi)\n",
    "\n",
    "# Set up PyTorch module\n",
    "# Reminder: If we don't explicitly declare the initial weights \n",
    "# they are chosen uniformly at random from [-1, 1].\n",
    "np.random.seed(9) \n",
    "initial_weights = 0.1*(2*np.random.rand(qnn2.num_weights) - 1)\n",
    "print(\"Initial weights: \", initial_weights)\n",
    "model2 = TorchConnector(qnn2, initial_weights)"
   ]
  },
  {
   "cell_type": "markdown",
   "id": "8847bf28",
   "metadata": {},
   "source": [
    "For a reminder on optimizer and loss function choices, you can go back to [this section](#Optimizer)."
   ]
  },
  {
   "cell_type": "code",
   "execution_count": 8,
   "id": "6e14cb8f",
   "metadata": {},
   "outputs": [
    {
     "name": "stdout",
     "output_type": "stream",
     "text": [
      "13.315366744995117\n",
      "11.97523307800293\n",
      "11.823417663574219\n",
      "11.889442443847656\n",
      "11.794966697692871\n",
      "11.826132774353027\n",
      "11.842987060546875\n",
      "11.666789054870605\n",
      "11.663642883300781\n",
      "11.511953353881836\n",
      "11.44442081451416\n",
      "11.496228218078613\n",
      "11.419776916503906\n",
      "11.390826225280762\n",
      "11.414074897766113\n",
      "11.378349304199219\n",
      "11.386789321899414\n",
      "11.413443565368652\n",
      "11.508167266845703\n",
      "11.414423942565918\n"
     ]
    }
   ],
   "source": [
    "# Define model, optimizer, and loss\n",
    "optimizer = LBFGS(model2.parameters())\n",
    "f_loss = CrossEntropyLoss() # Our output will be in the [0,1] range\n",
    "\n",
    "# Start training\n",
    "model2.train()    \n",
    "\n",
    "# Define LBFGS closure method (explained in previous section)\n",
    "def closure():\n",
    "    optimizer.zero_grad(set_to_none=True)                  # Initialize gradient\n",
    "    \n",
    "    loss = 0.0                                             # Initialize loss    \n",
    "    for x, y_target in zip(X, y01):                        # Evaluate batch loss\n",
    "        output = model2(Tensor(x)).reshape(1, 2)           # Forward pass\n",
    "        loss += f_loss(output, Tensor([y_target]).long())  # Calculate loss\n",
    "        \n",
    "    loss.backward()                                        # Backward pass\n",
    "    \n",
    "    print(loss.item())                                     # Print loss\n",
    "    return loss\n",
    "\n",
    "# Run optimizer (LBFGS requires closure)\n",
    "optimizer.step(closure);"
   ]
  },
  {
   "cell_type": "code",
   "execution_count": 9,
   "id": "ecc13cbd",
   "metadata": {},
   "outputs": [
    {
     "name": "stdout",
     "output_type": "stream",
     "text": [
      "Accuracy: 0.8\n"
     ]
    },
    {
     "data": {
      "image/png": "[encoded data removed]",
      "text/plain": [
       "<Figure size 432x288 with 1 Axes>"
      ]
     },
     "metadata": {
      "needs_background": "light"
     },
     "output_type": "display_data"
    }
   ],
   "source": [
    "# Evaluate model and compute accuracy\n",
    "y_predict = []\n",
    "for x in X:\n",
    "    output = model2(Tensor(x))\n",
    "    y_predict += [np.argmax(output.detach().numpy())]\n",
    "\n",
    "print('Accuracy:', sum(y_predict == y01)/len(y01))\n",
    "\n",
    "# plot results\n",
    "# red == wrongly classified\n",
    "for x, y_target, y_ in zip(X, y01, y_predict):\n",
    "    if y_target == 1:\n",
    "        plt.plot(x[0], x[1], 'bo')\n",
    "    else:\n",
    "        plt.plot(x[0], x[1], 'go')\n",
    "    if y_target != y_:\n",
    "        plt.scatter(x[0], x[1], s=200, facecolors='none', edgecolors='r', linewidths=2)\n",
    "plt.plot([-1, 1], [1, -1], '--', color='black')\n",
    "plt.show()"
   ]
  },
  {
   "cell_type": "markdown",
   "id": "c3cde59d",
   "metadata": {},
   "source": [
    "The red circles indicate wrongly classified data points."
   ]
  },
  {
   "cell_type": "markdown",
   "id": "c5ae5dd1",
   "metadata": {},
   "source": [
    "### 2. Regression \n",
    "\n",
    "We use a model based on the `TwoLayerQNN` to also illustrate how to perform a regression task. The chosen dataset in this case is randomly generated following a sine wave. "
   ]
  },
  {
   "cell_type": "code",
   "execution_count": 10,
   "id": "cca7d90a",
   "metadata": {},
   "outputs": [
    {
     "data": {
      "image/png": "[encoded data removed]",
      "text/plain": [
       "<Figure size 432x288 with 1 Axes>"
      ]
     },
     "metadata": {
      "needs_background": "light"
     },
     "output_type": "display_data"
    }
   ],
   "source": [
    "# Generate random dataset\n",
    "\n",
    "np.random.seed(0)\n",
    "num_samples = 20\n",
    "eps = 0.2\n",
    "lb, ub = -np.pi, np.pi\n",
    "f = lambda x: np.sin(x)\n",
    "\n",
    "X = (ub - lb)*np.random.rand(num_samples, 1) + lb\n",
    "y = f(X) + eps*(2*np.random.rand(num_samples, 1)-1)\n",
    "plt.plot(np.linspace(lb, ub), f(np.linspace(lb, ub)), 'r--')\n",
    "plt.plot(X, y, 'bo')\n",
    "plt.show()"
   ]
  },
  {
   "cell_type": "markdown",
   "id": "a889577f",
   "metadata": {},
   "source": [
    "#### A. Regression with PyTorch and `OpflowQNN`"
   ]
  },
  {
   "cell_type": "markdown",
   "id": "6ceabf7f",
   "metadata": {},
   "source": [
    "The network definition and training loop will be analogous to those of the classification task using `TwoLayerQNN`. In this case, we define our own feature map and ansatz, instead of using the default values."
   ]
  },
  {
   "cell_type": "code",
   "execution_count": 11,
   "id": "f3529509",
   "metadata": {},
   "outputs": [
    {
     "name": "stdout",
     "output_type": "stream",
     "text": [
      "ComposedOp([\n",
      "  OperatorMeasurement(1.0 * Z),\n",
      "  CircuitStateFn(\n",
      "       ┌───────┐┌───────┐\n",
      "  q_0: ┤ fm(x) ├┤ vf(y) ├\n",
      "       └───────┘└───────┘\n",
      "  )\n",
      "])\n"
     ]
    }
   ],
   "source": [
    "# Construct simple feature map\n",
    "param_x = Parameter('x')\n",
    "feature_map = QuantumCircuit(1, name='fm')\n",
    "feature_map.ry(param_x, 0)\n",
    "\n",
    "# Construct simple feature map\n",
    "param_y = Parameter('y')\n",
    "ansatz = QuantumCircuit(1, name='vf')\n",
    "ansatz.ry(param_y, 0)\n",
    "\n",
    "# Construct QNN\n",
    "qnn3 = TwoLayerQNN(1, feature_map, ansatz, quantum_instance=qi)\n",
    "print(qnn3.operator)\n",
    "\n",
    "# Set up PyTorch module\n",
    "# Reminder: If we don't explicitly declare the initial weights \n",
    "# they are chosen uniformly at random from [-1, 1].\n",
    "# Set seed for random dataset\n",
    "np.random.seed(7)\n",
    "initial_weights = 0.1*(2*np.random.rand(qnn3.num_weights) - 1)\n",
    "model3 = TorchConnector(qnn3, initial_weights)"
   ]
  },
  {
   "cell_type": "markdown",
   "id": "25a2d5f2",
   "metadata": {},
   "source": [
    "For a reminder on optimizer and loss function choices, you can go back to [this section](#Optimizer)."
   ]
  },
  {
   "cell_type": "code",
   "execution_count": 12,
   "id": "1cb676ad",
   "metadata": {},
   "outputs": [
    {
     "name": "stdout",
     "output_type": "stream",
     "text": [
      "21.06706428527832\n",
      "3.312551736831665\n",
      "19.546823501586914\n",
      "1.8777120113372803\n",
      "11.373740196228027\n",
      "0.31965798139572144\n",
      "0.25072208046913147\n",
      "0.21302613615989685\n",
      "0.25979092717170715\n",
      "0.2824020981788635\n",
      "0.2890171408653259\n",
      "0.3302638530731201\n",
      "0.2910362482070923\n",
      "0.26812854409217834\n",
      "0.2297312468290329\n",
      "0.28856873512268066\n",
      "0.23331144452095032\n",
      "0.27070528268814087\n",
      "0.20815816521644592\n",
      "0.28584733605384827\n"
     ]
    },
    {
     "data": {
      "text/plain": [
       "tensor(21.0671, grad_fn=<MseLossBackward>)"
      ]
     },
     "execution_count": 12,
     "metadata": {},
     "output_type": "execute_result"
    }
   ],
   "source": [
    "# Define optimizer and loss function\n",
    "optimizer = LBFGS(model3.parameters())\n",
    "f_loss = MSELoss(reduction='sum')\n",
    "\n",
    "# Start training\n",
    "model3.train()   # set model to training mode\n",
    "\n",
    "# Define objective function\n",
    "def closure():\n",
    "    optimizer.zero_grad(set_to_none=True)        # Initialize gradient\n",
    "    loss = f_loss(model3(Tensor(X)), Tensor(y))  # Compute batch loss\n",
    "    loss.backward()                              # Backward pass    \n",
    "    print(loss.item())                           # Print loss\n",
    "    return loss\n",
    "\n",
    "# Run optimizer\n",
    "optimizer.step(closure)"
   ]
  },
  {
   "cell_type": "code",
   "execution_count": 13,
   "id": "c789cb24",
   "metadata": {},
   "outputs": [
    {
     "data": {
      "image/png": "[encoded data removed]",
      "text/plain": [
       "<Figure size 432x288 with 1 Axes>"
      ]
     },
     "metadata": {
      "needs_background": "light"
     },
     "output_type": "display_data"
    }
   ],
   "source": [
    "# Plot target function\n",
    "plt.plot(np.linspace(lb, ub), f(np.linspace(lb, ub)), 'r--')\n",
    "\n",
    "# Plot data\n",
    "plt.plot(X, y, 'bo')\n",
    "\n",
    "# Plot fitted line\n",
    "y_ = []\n",
    "for x in np.linspace(lb, ub):\n",
    "    output = model3(Tensor([x]))\n",
    "    y_ += [output.detach().numpy()[0]]\n",
    "plt.plot(np.linspace(lb, ub), y_, 'g-')\n",
    "plt.show()"
   ]
  },
  {
   "cell_type": "markdown",
   "id": "fdd6e008",
   "metadata": {},
   "source": [
    "***\n",
    "\n",
    "## Part 2: MNIST Classification, Hybrid QNNs\n",
    "\n",
    "In this second part, we show how to leverage a hybrid quantum-classical neural network using `TorchConnector`, to perform a more complex image classification task on the MNIST handwritten digits dataset. \n",
    "\n",
    "For a more detailed (pre-`TorchConnector`) explanation on hybrid quantum-classical neural networks, you can check out the corresponding section in the [Qiskit Textbook](https://qiskit.org/textbook/ch-machine-learning/machine-learning-qiskit-pytorch.html)."
   ]
  },
  {
   "cell_type": "code",
   "execution_count": 14,
   "id": "af9672bd",
   "metadata": {},
   "outputs": [],
   "source": [
    "# Additional torch-related imports\n",
    "from torch import cat, no_grad, manual_seed \n",
    "from torch.utils.data import DataLoader\n",
    "from torchvision import datasets, transforms\n",
    "import torch.optim as optim\n",
    "from torch.nn import (Module, Conv2d, Linear, Dropout2d, NLLLoss, \n",
    "                     MaxPool2d, Flatten, Sequential, ReLU)\n",
    "import torch.nn.functional as F"
   ]
  },
  {
   "cell_type": "markdown",
   "id": "cd4fe6cd",
   "metadata": {},
   "source": [
    "### Step 1: Defining Data-loaders for train and test"
   ]
  },
  {
   "cell_type": "markdown",
   "id": "7bb2b0b3",
   "metadata": {},
   "source": [
    "We take advantage of the `torchvision` [API](https://pytorch.org/vision/stable/datasets.html) to directly load a subset of the [MNIST dataset](https://en.wikipedia.org/wiki/MNIST_database) and define torch `DataLoader`s ([link](https://pytorch.org/docs/stable/data.html)) for train and test."
   ]
  },
  {
   "cell_type": "code",
   "execution_count": 15,
   "id": "abe49418",
   "metadata": {},
   "outputs": [],
   "source": [
    "# Train Dataset\n",
    "# -------------\n",
    "\n",
    "# Set train shuffle seed (for reproducibility) \n",
    "manual_seed(1)\n",
    "\n",
    "batch_size = 1 \n",
    "n_samples = 100 # We will concentrate on the first 100 samples\n",
    "\n",
    "# Use pre-defined torchvision function to load MNIST train data\n",
    "X_train = datasets.MNIST(root='./data', train=True, download=True,\n",
    "                         transform=transforms.Compose([transforms.ToTensor()]))\n",
    "\n",
    "# Filter out labels (originally 0-9), leaving only labels 0 and 1 \n",
    "idx = np.append(np.where(X_train.targets == 0)[0][:n_samples], \n",
    "                np.where(X_train.targets == 1)[0][:n_samples])\n",
    "X_train.data = X_train.data[idx]\n",
    "X_train.targets = X_train.targets[idx]\n",
    "\n",
    "# Define torch dataloader with filtered data\n",
    "train_loader = DataLoader(X_train, batch_size=batch_size, shuffle=True)"
   ]
  },
  {
   "cell_type": "markdown",
   "id": "3cb22ec9",
   "metadata": {},
   "source": [
    "If we perform a quick visualization we can see that the train dataset consists of images of handwritten 0s and 1s."
   ]
  },
  {
   "cell_type": "code",
   "execution_count": 16,
   "id": "f1616c06",
   "metadata": {},
   "outputs": [
    {
     "data": {
      "image/png": "[encoded data removed]",
      "text/plain": [
       "<Figure size 720x216 with 6 Axes>"
      ]
     },
     "metadata": {},
     "output_type": "display_data"
    }
   ],
   "source": [
    "n_samples_show = 6\n",
    "\n",
    "data_iter = iter(train_loader)\n",
    "fig, axes = plt.subplots(nrows=1, ncols=n_samples_show, figsize=(10, 3))\n",
    "\n",
    "while n_samples_show > 0:\n",
    "    images, targets = data_iter.__next__()\n",
    "\n",
    "    axes[n_samples_show - 1].imshow(images[0, 0].numpy().squeeze(), cmap='gray')\n",
    "    axes[n_samples_show - 1].set_xticks([])\n",
    "    axes[n_samples_show - 1].set_yticks([])\n",
    "    axes[n_samples_show - 1].set_title(\"Labeled: {}\".format(targets[0].item()))\n",
    "    \n",
    "    n_samples_show -= 1"
   ]
  },
  {
   "cell_type": "code",
   "execution_count": 28,
   "id": "23012c9b",
   "metadata": {},
   "outputs": [],
   "source": [
    "# Test Dataset\n",
    "# -------------\n",
    "\n",
    "# Set test shuffle seed (for reproducibility) \n",
    "manual_seed(5)\n",
    "\n",
    "n_samples = 50\n",
    "\n",
    "# Use pre-defined torchvision function to load MNIST test data\n",
    "X_test = datasets.MNIST(root='./data', train=False, download=True,\n",
    "                        transform=transforms.Compose([transforms.ToTensor()]))\n",
    "\n",
    "# Filter out labels (originally 0-9), leaving only labels 0 and 1 \n",
    "idx = np.append(np.where(X_test.targets == 0)[0][:n_samples], \n",
    "                np.where(X_test.targets == 1)[0][:n_samples])\n",
    "X_test.data = X_test.data[idx]\n",
    "X_test.targets = X_test.targets[idx]\n",
    "\n",
    "# Define torch dataloader with filtered data\n",
    "test_loader = DataLoader(X_test, batch_size=batch_size, shuffle=True)"
   ]
  },
  {
   "cell_type": "markdown",
   "id": "67b54517",
   "metadata": {},
   "source": [
    "### Step 2: Defining the QNN and Hybrid Model"
   ]
  },
  {
   "cell_type": "markdown",
   "id": "5e8172d0",
   "metadata": {},
   "source": [
    "This second step shows the power of the `TorchConnector`. After defining our quantum neural network layer (in this case, a `TwoLayerQNN`), we can embed it into a layer in our torch `Module` by initializing a torch connector as `TorchConnector(qnn)`.\n",
    "\n",
    "**⚠️ Attention:**\n",
    "In order to have an adequate gradient backpropagation in hybrid models,  we MUST set the initial parameter `input_gradients` to TRUE during the qnn initialization."
   ]
  },
  {
   "cell_type": "code",
   "execution_count": 29,
   "id": "f9cf4fd4",
   "metadata": {},
   "outputs": [
    {
     "name": "stdout",
     "output_type": "stream",
     "text": [
      "ComposedOp([\n",
      "  OperatorMeasurement(1.0 * ZZ),\n",
      "  CircuitStateFn(\n",
      "       ┌────────────────────┐┌──────────────────────────────┐\n",
      "  q_0: ┤0                   ├┤0                             ├\n",
      "       │  nlocal(x[0],x[1]) ││  nlocal(θ[0],θ[1],θ[2],θ[3]) │\n",
      "  q_1: ┤1                   ├┤1                             ├\n",
      "       └────────────────────┘└──────────────────────────────┘\n",
      "  )\n",
      "])\n"
     ]
    }
   ],
   "source": [
    "# Define QNN\n",
    "feature_map = ZZFeatureMap(2)\n",
    "ansatz = RealAmplitudes(2, reps=1)\n",
    "# REMEMBER TO SET input_gradients=True FOR ENABLING HYBRID GRADIENT BACKPROP\n",
    "qnn4 = TwoLayerQNN(2, feature_map, ansatz, input_gradients=True, exp_val=AerPauliExpectation(), quantum_instance=qi)\n",
    "print(qnn4.operator)"
   ]
  },
  {
   "cell_type": "code",
   "execution_count": 30,
   "id": "341f054e",
   "metadata": {},
   "outputs": [],
   "source": [
    "# Define torch NN module\n",
    "\n",
    "class Net(Module):\n",
    "    \n",
    "    def __init__(self):\n",
    "        super().__init__()\n",
    "        self.conv1 = Conv2d(1, 2, kernel_size=5)\n",
    "        self.conv2 = Conv2d(2, 16, kernel_size=5)\n",
    "        self.dropout = Dropout2d()\n",
    "        self.fc1 = Linear(256, 64)\n",
    "        self.fc2 = Linear(64, 2)         # 2-dimensional input to QNN\n",
    "        self.qnn = TorchConnector(qnn4)  # Apply torch connector, weights chosen \n",
    "                                         # uniformly at random from interval [-1,1].\n",
    "        self.fc3 = Linear(1, 1)          # 1-dimensional output from QNN\n",
    "\n",
    "    def forward(self, x):\n",
    "        x = F.relu(self.conv1(x))\n",
    "        x = F.max_pool2d(x, 2)\n",
    "        x = F.relu(self.conv2(x))\n",
    "        x = F.max_pool2d(x, 2)\n",
    "        x = self.dropout(x)\n",
    "        x = x.view(x.shape[0], -1)\n",
    "        x = F.relu(self.fc1(x))\n",
    "        x = self.fc2(x)\n",
    "        x = self.qnn(x)  # apply QNN\n",
    "        x = self.fc3(x)\n",
    "        return cat((x, 1 - x), -1)\n",
    "    \n",
    "model4 = Net()"
   ]
  },
  {
   "cell_type": "markdown",
   "id": "ff6f3b4c",
   "metadata": {},
   "source": [
    "### Step 3: Training"
   ]
  },
  {
   "cell_type": "code",
   "execution_count": 31,
   "id": "c5b8ecfa",
   "metadata": {},
   "outputs": [
    {
     "name": "stdout",
     "output_type": "stream",
     "text": [
      "Training [10%]\tLoss: -1.0432\n",
      "Training [20%]\tLoss: -1.4151\n",
      "Training [30%]\tLoss: -1.6405\n",
      "Training [40%]\tLoss: -1.8949\n",
      "Training [50%]\tLoss: -2.1496\n",
      "Training [60%]\tLoss: -2.3478\n",
      "Training [70%]\tLoss: -2.5664\n",
      "Training [80%]\tLoss: -2.7860\n",
      "Training [90%]\tLoss: -3.0383\n",
      "Training [100%]\tLoss: -3.2382\n"
     ]
    }
   ],
   "source": [
    "# Define model, optimizer, and loss function\n",
    "optimizer = optim.Adam(model4.parameters(), lr=0.001)\n",
    "loss_func = NLLLoss()\n",
    "\n",
    "# Start training\n",
    "epochs = 10     # Set number of epochs\n",
    "loss_list = []  # Store loss history\n",
    "model4.train()  # Set model to training mode\n",
    "\n",
    "for epoch in range(epochs):\n",
    "    total_loss = []\n",
    "    for batch_idx, (data, target) in enumerate(train_loader):        \n",
    "        optimizer.zero_grad(set_to_none=True)  # Initialize gradient\n",
    "        output = model4(data)                  # Forward pass\n",
    "        loss = loss_func(output, target)       # Calculate loss\n",
    "        loss.backward()                        # Backward pass\n",
    "        optimizer.step()                       # Optimize weights\n",
    "        total_loss.append(loss.item())         # Store loss    \n",
    "    loss_list.append(sum(total_loss)/len(total_loss))    \n",
    "    print('Training [{:.0f}%]\\tLoss: {:.4f}'.format(\n",
    "        100. * (epoch + 1) / epochs, loss_list[-1])) "
   ]
  },
  {
   "cell_type": "code",
   "execution_count": 33,
   "id": "4263ca0d",
   "metadata": {
    "scrolled": true
   },
   "outputs": [
    {
     "data": {
      "image/png": "[encoded data removed]",
      "text/plain": [
       "<Figure size 432x288 with 1 Axes>"
      ]
     },
     "metadata": {
      "needs_background": "light"
     },
     "output_type": "display_data"
    }
   ],
   "source": [
    "# Plot loss convergence\n",
    "plt.plot(loss_list)\n",
    "plt.title('Hybrid NN Training Convergence')\n",
    "plt.xlabel('Training Iterations')\n",
    "plt.ylabel('Neg. Log Likelihood Loss')\n",
    "plt.show()"
   ]
  },
  {
   "cell_type": "markdown",
   "id": "7a4c10a9",
   "metadata": {},
   "source": [
    "### Step 4: Evaluation"
   ]
  },
  {
   "cell_type": "code",
   "execution_count": 34,
   "id": "1d815a54",
   "metadata": {},
   "outputs": [
    {
     "name": "stdout",
     "output_type": "stream",
     "text": [
      "Performance on test data:\n",
      "\tLoss: -3.2502\n",
      "\tAccuracy: 99.0%\n"
     ]
    }
   ],
   "source": [
    "model4.eval()  # set model to evaluation mode\n",
    "with no_grad():\n",
    "    \n",
    "    correct = 0\n",
    "    for batch_idx, (data, target) in enumerate(test_loader):\n",
    "        output = model4(data)\n",
    "        if len(output.shape) == 1:\n",
    "            output = output.reshape(1, *output.shape)\n",
    "        \n",
    "        pred = output.argmax(dim=1, keepdim=True) \n",
    "        correct += pred.eq(target.view_as(pred)).sum().item()\n",
    "        \n",
    "        loss = loss_func(output, target)\n",
    "        total_loss.append(loss.item())\n",
    "        \n",
    "    print('Performance on test data:\\n\\tLoss: {:.4f}\\n\\tAccuracy: {:.1f}%'\n",
    "          .format(sum(total_loss) / len(total_loss), \n",
    "                  correct / len(test_loader) / batch_size * 100)\n",
    "    )"
   ]
  },
  {
   "cell_type": "code",
   "execution_count": 35,
   "id": "ab7a3038",
   "metadata": {},
   "outputs": [
    {
     "data": {
      "image/png": "[encoded data removed]",
      "text/plain": [
       "<Figure size 720x216 with 6 Axes>"
      ]
     },
     "metadata": {},
     "output_type": "display_data"
    }
   ],
   "source": [
    "# Plot predicted labels\n",
    "\n",
    "n_samples_show = 6\n",
    "count = 0\n",
    "fig, axes = plt.subplots(nrows=1, ncols=n_samples_show, figsize=(10, 3))\n",
    "\n",
    "model4.eval()\n",
    "with no_grad():\n",
    "    for batch_idx, (data, target) in enumerate(test_loader):\n",
    "        if count == n_samples_show:\n",
    "            break\n",
    "        output = model4(data[0:1])\n",
    "        if len(output.shape) == 1:\n",
    "            output = output.reshape(1, *output.shape)\n",
    "        \n",
    "        pred = output.argmax(dim=1, keepdim=True) \n",
    "\n",
    "        axes[count].imshow(data[0].numpy().squeeze(), cmap='gray')\n",
    "\n",
    "        axes[count].set_xticks([])\n",
    "        axes[count].set_yticks([])\n",
    "        axes[count].set_title('Predicted {}'.format(pred.item()))\n",
    "        \n",
    "        count += 1"
   ]
  },
  {
   "cell_type": "markdown",
   "id": "e6a26b82",
   "metadata": {},
   "source": [
    "🎉🎉🎉🎉\n",
    "**You are now able to experiment with your own hybrid datasets and architectures using Qiskit Machine Learning.** \n",
    "**Good Luck!**"
   ]
  },
  {
   "cell_type": "code",
   "execution_count": 36,
   "id": "81aebd9a",
   "metadata": {},
   "outputs": [
    {
     "data": {
      "text/html": [
       "<h3>Version Information</h3><table><tr><th>Qiskit Software</th><th>Version</th></tr><tr><td>Qiskit</td><td>None</td></tr><tr><td>Terra</td><td>0.17.4</td></tr><tr><td>Aer</td><td>0.8.2</td></tr><tr><td>Ignis</td><td>None</td></tr><tr><td>Aqua</td><td>None</td></tr><tr><td>IBM Q Provider</td><td>None</td></tr><tr><th>System information</th></tr><tr><td>Python</td><td>3.9.6 (default, Jun 29 2021, 05:25:02) \n",
       "[Clang 12.0.5 (clang-1205.0.22.9)]</td></tr><tr><td>OS</td><td>Darwin</td></tr><tr><td>CPUs</td><td>8</td></tr><tr><td>Memory (Gb)</td><td>64.0</td></tr><tr><td colspan='2'>Tue Jul 06 16:54:51 2021 JST</td></tr></table>"
      ],
      "text/plain": [
       "<IPython.core.display.HTML object>"
      ]
     },
     "metadata": {},
     "output_type": "display_data"
    },
    {
     "data": {
      "text/html": [
       "<div style='width: 100%; background-color:#d5d9e0;padding-left: 10px; padding-bottom: 10px; padding-right: 10px; padding-top: 5px'><h3>This code is a part of Qiskit</h3><p>&copy; Copyright IBM 2017, 2021.</p><p>This code is licensed under the Apache License, Version 2.0. You may<br>obtain a copy of this license in the LICENSE.txt file in the root directory<br> of this source tree or at http://www.apache.org/licenses/LICENSE-2.0.<p>Any modifications or derivative works of this code must retain this<br>copyright notice, and modified files need to carry a notice indicating<br>that they have been altered from the originals.</p></div>"
      ],
      "text/plain": [
       "<IPython.core.display.HTML object>"
      ]
     },
     "metadata": {},
     "output_type": "display_data"
    }
   ],
   "source": [
    "import qiskit.tools.jupyter\n",
    "%qiskit_version_table\n",
    "%qiskit_copyright"
   ]
  }
 ],
 "metadata": {
  "kernelspec": {
   "display_name": "Python 3 (ipykernel)",
   "language": "python",
   "name": "python3"
  },
  "language_info": {
   "codemirror_mode": {
    "name": "ipython",
    "version": 3
   },
   "file_extension": ".py",
   "mimetype": "text/x-python",
   "name": "python",
   "nbconvert_exporter": "python",
   "pygments_lexer": "ipython3",
   "version": "3.9.6"
  }
 },
 "nbformat": 4,
 "nbformat_minor": 5
}
