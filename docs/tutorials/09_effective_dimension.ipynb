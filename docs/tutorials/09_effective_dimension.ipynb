{
 "cells": [
  {
   "cell_type": "markdown",
   "metadata": {
    "pycharm": {
     "name": "#%% md\n"
    },
    "slideshow": {
     "slide_type": "slide"
    }
   },
   "source": [
    "# Effective Dimension of Qiskit Neural Networks"
   ]
  },
  {
   "cell_type": "markdown",
   "metadata": {
    "pycharm": {
     "name": "#%% md\n"
    },
    "slideshow": {
     "slide_type": "slide"
    }
   },
   "source": [
    "In this tutorial, we will take advantage of the `EffectiveDimension` and `LocalEffectiveDimension` classes to evaluate the power of Quantum Neural Network models. These are metrics based on information geometry that connect to notions such as trainability, expressibility or ability to generalize.\n",
    "\n",
    "Before diving into the code example, we will briefly explain what is the difference between these two metrics, and why are they relevant to the study of Quantum Neural Networks. More information about global effective dimension can be found in ['this paper'](https://arxiv.org/pdf/2011.00027.pdf), while the local effective dimension was introduced in a ['later work'](https://arxiv.org/abs/2112.04807), both by Abbas et al."
   ]
  },
  {
   "cell_type": "markdown",
   "source": [
    "## 1. Global vs. Local Effective Dimension"
   ],
   "metadata": {
    "collapsed": false
   }
  },
  {
   "cell_type": "markdown",
   "source": [
    "Both classical and quantum machine learning models share a common goal: being good at **generalizing**, i.e. learning from data and applying these learnings on unseen data. Finding a good metric to assess this ability is a non-trivial matter. In [The Power of Quantum Neural Networks](https://arxiv.org/pdf/2011.00027.pdf), Abbas et al. introduce the **Global** Effective Dimension as a useful indicator of how well a particular model will be able to perform on new data.\n",
    "\n",
    "Both the Global and Local Effective Dimension algorithms use the Fisher Information matrix to provide a measure of complexity. The details on how this matrix is calculated are provided in the [reference paper](https://arxiv.org/pdf/2011.00027.pdf), but in general terms, this matrix captures how sensitive a neural network's output is to changes in the network's parameter space.\n",
    "\n",
    "The key difference between Global and Local Effective Dimension is actually not on the way they are computed, but in the nature of the parameter space that is analyzed. The global effective dimension incorporates the full parameter space of the model, and is calculated from a large number of parameters sets. However, the act of training restricts the number of parameters that the model has access to when applied to new data, and when looking into the ability to generalize of a model, it makes more sense to calculate a metric that is specific for a particular set of trained parameters. This is what is done with the Local Effective Dimension.\n"
   ],
   "metadata": {
    "collapsed": false,
    "pycharm": {
     "name": "#%% md\n"
    }
   }
  },
  {
   "cell_type": "markdown",
   "metadata": {
    "slideshow": {
     "slide_type": "slide"
    }
   },
   "source": [
    "## 2. Basic Example (CircuitQNN)\n",
    "\n",
    "This example shows how to set up a QNN model problem and run the effective dimension algorithm.\n",
    "\n"
   ]
  },
  {
   "cell_type": "code",
   "execution_count": 6,
   "metadata": {
    "slideshow": {
     "slide_type": "skip"
    }
   },
   "outputs": [],
   "source": [
    "# Necessary imports\n",
    "from qiskit.circuit.library import ZFeatureMap, RealAmplitudes\n",
    "import matplotlib.pyplot as plt\n",
    "import numpy as np"
   ]
  },
  {
   "cell_type": "code",
   "execution_count": 7,
   "metadata": {
    "pycharm": {
     "name": "#%%\n"
    },
    "slideshow": {
     "slide_type": "skip"
    }
   },
   "outputs": [],
   "source": [
    "from qiskit_machine_learning.neural_networks import CircuitQNN\n",
    "from qiskit.utils import QuantumInstance\n",
    "from qiskit import Aer, QuantumCircuit"
   ]
  },
  {
   "cell_type": "code",
   "execution_count": 8,
   "metadata": {
    "pycharm": {
     "name": "#%%\n"
    },
    "slideshow": {
     "slide_type": "-"
    }
   },
   "outputs": [],
   "source": [
    "from qiskit_machine_learning.algorithms.effective_dimension import EffectiveDimension, LocalEffectiveDimension"
   ]
  },
  {
   "cell_type": "code",
   "execution_count": 9,
   "metadata": {
    "pycharm": {
     "name": "#%%\n"
    },
    "slideshow": {
     "slide_type": "skip"
    }
   },
   "outputs": [],
   "source": [
    "# declare quantum instance\n",
    "qi_sv = QuantumInstance(Aer.get_backend(\"aer_simulator_statevector\"))"
   ]
  },
  {
   "cell_type": "markdown",
   "metadata": {
    "pycharm": {
     "name": "#%% md\n"
    },
    "slideshow": {
     "slide_type": "slide"
    }
   },
   "source": [
    "### 1. Create QNN"
   ]
  },
  {
   "cell_type": "code",
   "execution_count": 10,
   "metadata": {
    "pycharm": {
     "name": "#%%\n"
    },
    "slideshow": {
     "slide_type": "-"
    }
   },
   "outputs": [],
   "source": [
    "num_qubits = 3\n",
    "# create a feature map\n",
    "feature_map = ZFeatureMap(feature_dimension=num_qubits, reps=1)\n",
    "# create a variational circuit\n",
    "ansatz = RealAmplitudes(num_qubits, reps=1)\n",
    "\n",
    "# create quantum circuit\n",
    "qc = QuantumCircuit(num_qubits)\n",
    "qc.append(feature_map, range(num_qubits))\n",
    "qc.append(ansatz, range(num_qubits))\n",
    "qc.decompose().draw( 'mpl')"
   ]
  },
  {
   "cell_type": "code",
   "execution_count": 21,
   "outputs": [],
   "source": [
    "# parity maps bitstrings to 0 or 1\n",
    "def parity(x):\n",
    "    return \"{:b}\".format(x).count(\"1\") % 2\n",
    "output_shape = 2  # corresponds to the number of classes, possible outcomes of the (parity) mapping."
   ],
   "metadata": {
    "collapsed": false,
    "pycharm": {
     "name": "#%%\n"
    }
   }
  },
  {
   "cell_type": "code",
   "execution_count": null,
   "outputs": [],
   "source": [
    "# construct QNN\n",
    "qnn = CircuitQNN(\n",
    "    qc,\n",
    "    input_params=feature_map.parameters,\n",
    "    weight_params=ansatz.parameters,\n",
    "    interpret=parity,\n",
    "    output_shape=output_shape,\n",
    "    sparse=False,\n",
    "    quantum_instance=qi_sv\n",
    ")"
   ],
   "metadata": {
    "collapsed": false,
    "pycharm": {
     "name": "#%%\n"
    }
   }
  },
  {
   "cell_type": "markdown",
   "source": [
    "### 2. Define Problem"
   ],
   "metadata": {
    "collapsed": false
   }
  },
  {
   "cell_type": "markdown",
   "source": [
    "In order to define the problem, we need a series of sets of inputs and parameters, as well as the total number of data (n). The `inputs` and `params` are set in the class constructor, while the number of data is given during the call to the effective dimension computation to be able to test and compare how this measure changes with different dataset sizes."
   ],
   "metadata": {
    "collapsed": false
   }
  },
  {
   "cell_type": "code",
   "execution_count": 24,
   "outputs": [],
   "source": [
    "# we can provide user-defined inputs and parameters\n",
    "inputs = np.random.normal(0, 1, size=(10, qnn.num_inputs))\n",
    "params = np.random.uniform(0, 1, size=(10, qnn.num_weights))\n",
    "\n",
    "global_ed = EffectiveDimension(qnn=qnn,\n",
    "                               params= params,\n",
    "                               inputs = inputs)"
   ],
   "metadata": {
    "collapsed": false,
    "pycharm": {
     "name": "#%%\n"
    }
   }
  },
  {
   "cell_type": "code",
   "execution_count": 25,
   "outputs": [],
   "source": [
    "# but we can also set the total number of input and parameter sets and these will be randomly selected for us:\n",
    "num_inputs = 10\n",
    "num_params = 10\n",
    "\n",
    "global_ed = EffectiveDimension(qnn=qnn,\n",
    "                               num_params=num_params,\n",
    "                               num_inputs=num_inputs)"
   ],
   "metadata": {
    "collapsed": false,
    "pycharm": {
     "name": "#%%\n"
    }
   }
  },
  {
   "cell_type": "code",
   "execution_count": null,
   "outputs": [],
   "source": [
    "# finally, we will define ranges to test different numbers of data, n\n",
    "n = [5000, 8000, 10000, 40000, 60000, 100000, 150000, 200000, 500000, 1000000]"
   ],
   "metadata": {
    "collapsed": false,
    "pycharm": {
     "name": "#%%\n"
    }
   }
  },
  {
   "cell_type": "markdown",
   "metadata": {
    "pycharm": {
     "name": "#%% md\n"
    },
    "slideshow": {
     "slide_type": "slide"
    }
   },
   "source": [
    "### 2. Create Global Effective Dimension Object"
   ]
  },
  {
   "cell_type": "code",
   "execution_count": 19,
   "metadata": {
    "pycharm": {
     "name": "#%%\n"
    },
    "slideshow": {
     "slide_type": "-"
    }
   },
   "outputs": [],
   "source": [
    "# if no inputs/parameters provided, they will be randomly sampled from a uniform/standard distribution\n",
    "def callback(msg):\n",
    "    print(msg)\n",
    "\n",
    "global_ed = EffectiveDimension(qnn=qnn,\n",
    "                               num_params=num_params,\n",
    "                               num_inputs=num_inputs,\n",
    "                               callback=callback)"
   ]
  },
  {
   "cell_type": "markdown",
   "metadata": {
    "pycharm": {
     "name": "#%% md\n"
    },
    "slideshow": {
     "slide_type": "-"
    }
   },
   "source": [
    "### 3. Compute Effective Dimension"
   ]
  },
  {
   "cell_type": "code",
   "execution_count": null,
   "metadata": {
    "pycharm": {
     "name": "#%%\n",
     "is_executing": true
    },
    "slideshow": {
     "slide_type": "-"
    }
   },
   "outputs": [
    {
     "name": "stdout",
     "output_type": "stream",
     "text": [
      "iteration 0, time forward pass: 0.9238131046295166\n",
      "iteration 0, time backward pass: 220.620502948761\n",
      "iteration 1, time forward pass: 0.3635730743408203\n",
      "iteration 1, time backward pass: 198.3666558265686\n",
      "iteration 2, time forward pass: 0.2774331569671631\n",
      "iteration 2, time backward pass: 217.56204390525818\n",
      "iteration 3, time forward pass: 0.35566115379333496\n"
     ]
    }
   ],
   "source": [
    "global_eff_dim= global_ed.get_effective_dimension(n = n)\n",
    "d = global_ed.num_weights()"
   ]
  },
  {
   "cell_type": "code",
   "execution_count": null,
   "metadata": {
    "pycharm": {
     "name": "#%%\n",
     "is_executing": true
    },
    "slideshow": {
     "slide_type": "slide"
    }
   },
   "outputs": [],
   "source": [
    "print(\"effdim: \", global_eff_dim)\n",
    "# plot the normalised effective dimension for the model\n",
    "plt.plot(n, np.array(global_eff_dim)/d)\n",
    "plt.xlabel('number of data')\n",
    "plt.ylabel('normalised effective dimension')\n",
    "plt.show()"
   ]
  },
  {
   "cell_type": "markdown",
   "metadata": {
    "slideshow": {
     "slide_type": "slide"
    }
   },
   "source": [
    "## 3. Other Examples"
   ]
  },
  {
   "cell_type": "markdown",
   "metadata": {
    "pycharm": {
     "name": "#%% md\n"
    },
    "slideshow": {
     "slide_type": "-"
    }
   },
   "source": [
    "###  A) User-Defined Inputs and Params"
   ]
  },
  {
   "cell_type": "code",
   "execution_count": null,
   "metadata": {
    "pycharm": {
     "name": "#%%\n"
    }
   },
   "outputs": [],
   "source": [
    "params = np.random.uniform(2, 2.5, size=(num_params, qnn.num_weights))\n",
    "x = np.random.normal(0, 3, size=(num_inputs, qnn.num_inputs))\n",
    "\n",
    "global_ed = EffectiveDimension(qnn=qnn,\n",
    "                               params=params,\n",
    "                               inputs=x)"
   ]
  },
  {
   "cell_type": "code",
   "execution_count": null,
   "metadata": {
    "pycharm": {
     "name": "#%%\n"
    },
    "slideshow": {
     "slide_type": "slide"
    }
   },
   "outputs": [],
   "source": [
    "global_eff_dim, time = global_ed.eff_dim(n = n)\n",
    "d = global_ed.d\n",
    "print(\"effdim: \", global_eff_dim)\n",
    "# plot the normalised effective dimension for the model\n",
    "plt.plot(n, np.array(global_eff_dim)/d)\n",
    "plt.xlabel('number of data')\n",
    "plt.ylabel('normalised effective dimension')\n",
    "plt.show()"
   ]
  },
  {
   "cell_type": "markdown",
   "metadata": {
    "slideshow": {
     "slide_type": "slide"
    }
   },
   "source": [
    "###  B) Non-parity post-processing"
   ]
  },
  {
   "cell_type": "code",
   "execution_count": null,
   "metadata": {
    "pycharm": {
     "name": "#%%\n"
    }
   },
   "outputs": [],
   "source": [
    "# construct QNN\n",
    "qnn3 = CircuitQNN(\n",
    "    qc,\n",
    "    input_params=feature_map.parameters,\n",
    "    weight_params=ansatz.parameters,\n",
    "    # interpret=parity,\n",
    "    # output_shape=output_shape,\n",
    "    sparse=False,\n",
    "    quantum_instance=qi_sv\n",
    ")"
   ]
  },
  {
   "cell_type": "code",
   "execution_count": null,
   "metadata": {
    "pycharm": {
     "name": "#%%\n"
    },
    "slideshow": {
     "slide_type": "slide"
    }
   },
   "outputs": [],
   "source": [
    "global_ed_3 = EffectiveDimension(qnn=qnn3,\n",
    "                               params=params,\n",
    "                               inputs=x)\n",
    "\n",
    "global_eff_dim_3, time = global_ed_3.eff_dim(n = n)\n",
    "d = global_ed.d\n",
    "print(\"effdim: \", global_eff_dim_3)\n",
    "# plot the normalised effective dimension for the model\n",
    "plt.plot(n, np.array(global_eff_dim_3)/d)\n",
    "plt.xlabel('number of data')\n",
    "plt.ylabel('normalised effective dimension')\n",
    "plt.show()"
   ]
  },
  {
   "cell_type": "markdown",
   "metadata": {
    "pycharm": {
     "name": "#%% md\n"
    },
    "slideshow": {
     "slide_type": "slide"
    }
   },
   "source": [
    "### C) Use with Opflow QNN"
   ]
  },
  {
   "cell_type": "code",
   "execution_count": null,
   "metadata": {
    "pycharm": {
     "name": "#%%\n"
    }
   },
   "outputs": [],
   "source": [
    "from qiskit_machine_learning.neural_networks import TwoLayerQNN\n",
    "from qiskit.opflow import StateFn, PauliSumOp, AerPauliExpectation, ListOp, Gradient"
   ]
  },
  {
   "cell_type": "code",
   "execution_count": null,
   "metadata": {
    "pycharm": {
     "name": "#%%\n"
    }
   },
   "outputs": [],
   "source": [
    "# specify the observable\n",
    "observable = PauliSumOp.from_list([(\"Z\" * num_qubits, 1)])\n",
    "print(observable)\n",
    "# define two layer QNN\n",
    "qnn2 = TwoLayerQNN(\n",
    "    num_qubits, feature_map=feature_map, ansatz=ansatz, observable=observable, quantum_instance=qi_sv\n",
    ")"
   ]
  },
  {
   "cell_type": "code",
   "execution_count": null,
   "metadata": {
    "pycharm": {
     "name": "#%%\n"
    }
   },
   "outputs": [],
   "source": [
    "global_ed2 = EffectiveDimension(qnn=qnn2,\n",
    "                               params=params,\n",
    "                               inputs=x)"
   ]
  },
  {
   "cell_type": "code",
   "execution_count": null,
   "metadata": {
    "pycharm": {
     "name": "#%%\n"
    },
    "slideshow": {
     "slide_type": "slide"
    }
   },
   "outputs": [],
   "source": [
    "global_eff_dim2, time = global_ed2.eff_dim(n = n)\n",
    "d = global_ed2.d\n",
    "print(\"effdim: \", global_eff_dim2)\n",
    "# plot the normalised effective dimension for the model\n",
    "plt.plot(n, np.array(global_eff_dim2)/d)\n",
    "plt.xlabel('number of data')\n",
    "plt.ylabel('normalised effective dimension')\n",
    "plt.show()"
   ]
  },
  {
   "cell_type": "markdown",
   "metadata": {
    "pycharm": {
     "name": "#%% md\n"
    },
    "slideshow": {
     "slide_type": "slide"
    }
   },
   "source": [
    "## 4. Local Effective Dimension"
   ]
  },
  {
   "cell_type": "code",
   "execution_count": null,
   "metadata": {
    "pycharm": {
     "name": "#%%\n"
    }
   },
   "outputs": [],
   "source": [
    "local_ed = LocalEffectiveDimension(qnn=qnn2,\n",
    "                               params=params,\n",
    "                               inputs=x)"
   ]
  },
  {
   "cell_type": "code",
   "execution_count": null,
   "metadata": {
    "pycharm": {
     "name": "#%%\n"
    },
    "slideshow": {
     "slide_type": "slide"
    }
   },
   "outputs": [],
   "source": [
    "local_ed = LocalEffectiveDimension(qnn=qnn2,\n",
    "                               params=params[0],\n",
    "                               inputs=x)"
   ]
  },
  {
   "cell_type": "code",
   "execution_count": null,
   "metadata": {
    "pycharm": {
     "name": "#%%\n"
    }
   },
   "outputs": [],
   "source": [
    "local_eff_dim, time = local_ed.eff_dim(n = n)\n",
    "d = local_ed.d\n",
    "print(local_eff_dim)\n",
    "# plot the normalised effective dimension for the model\n",
    "plt.plot(n, np.array(local_eff_dim)/d)\n",
    "plt.xlabel('number of data')\n",
    "plt.ylabel('normalised effective dimension')\n",
    "plt.show()"
   ]
  }
 ],
 "metadata": {
  "celltoolbar": "Slideshow",
  "kernelspec": {
   "display_name": "Python 3 (ipykernel)",
   "language": "python",
   "name": "python3"
  },
  "language_info": {
   "codemirror_mode": {
    "name": "ipython",
    "version": 3
   },
   "file_extension": ".py",
   "mimetype": "text/x-python",
   "name": "python",
   "nbconvert_exporter": "python",
   "pygments_lexer": "ipython3",
   "version": "3.10.0"
  }
 },
 "nbformat": 4,
 "nbformat_minor": 1
}