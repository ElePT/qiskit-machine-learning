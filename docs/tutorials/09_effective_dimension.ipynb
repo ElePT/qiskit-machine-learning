{
 "cells": [
  {
   "cell_type": "markdown",
   "metadata": {
    "pycharm": {
     "name": "#%% md\n"
    },
    "slideshow": {
     "slide_type": "slide"
    }
   },
   "source": [
    "# Effective Dimension of Qiskit Neural Networks"
   ]
  },
  {
   "cell_type": "markdown",
   "metadata": {
    "pycharm": {
     "name": "#%% md\n"
    },
    "slideshow": {
     "slide_type": "slide"
    }
   },
   "source": [
    "In this tutorial, we will take advantage of the `EffectiveDimension` and `LocalEffectiveDimension` classes to evaluate the power of Quantum Neural Network models. These are metrics based on information geometry that connect to notions such as trainability, expressibility or ability to generalize.\n",
    "\n",
    "Before diving into the code example, we will briefly explain what is the difference between these two metrics, and why are they relevant to the study of Quantum Neural Networks. More information about global effective dimension can be found in ['this paper'](https://arxiv.org/pdf/2011.00027.pdf), while the local effective dimension was introduced in a ['later work'](https://arxiv.org/abs/2112.04807), both by Abbas et al."
   ]
  },
  {
   "cell_type": "markdown",
   "source": [
    "## 1. Global vs. Local Effective Dimension"
   ],
   "metadata": {
    "collapsed": false
   }
  },
  {
   "cell_type": "markdown",
   "source": [
    "Both classical and quantum machine learning models share a common goal: being good at **generalizing**, i.e. learning from data and applying these learnings on unseen data. Finding a good metric to assess this ability is a non-trivial matter. In [The Power of Quantum Neural Networks](https://arxiv.org/pdf/2011.00027.pdf), Abbas et al. introduce the **Global** Effective Dimension as a useful indicator of how well a particular model will be able to perform on new data.\n",
    "\n",
    "Both the Global and Local Effective Dimension algorithms use the Fisher Information matrix to provide a measure of complexity. The details on how this matrix is calculated are provided in the [reference paper](https://arxiv.org/pdf/2011.00027.pdf), but in general terms, this matrix captures how sensitive a neural network's output is to changes in the network's parameter space.\n",
    "\n",
    "The key difference between Global and Local Effective Dimension is actually not on the way they are computed, but in the nature of the parameter space that is analyzed. The global effective dimension incorporates the **full parameter space** of the model, and is calculated from a **large number of parameters sets**. On the other hand, the local effective dimension focuses on how well the **trained** model can generalize to new data, and thus only requires **1** set of parameters values (training result) for its calculation."
   ],
   "metadata": {
    "collapsed": false,
    "pycharm": {
     "name": "#%% md\n"
    }
   }
  },
  {
   "cell_type": "markdown",
   "metadata": {
    "slideshow": {
     "slide_type": "slide"
    }
   },
   "source": [
    "## 2. Basic Example (CircuitQNN)\n",
    "\n",
    "This example shows how to set up a QNN model problem and run the global effective dimension algorithm.\n",
    "\n"
   ]
  },
  {
   "cell_type": "code",
   "execution_count": 1,
   "metadata": {
    "slideshow": {
     "slide_type": "skip"
    }
   },
   "outputs": [],
   "source": [
    "# Necessary imports\n",
    "from qiskit.circuit.library import ZFeatureMap, RealAmplitudes\n",
    "import matplotlib.pyplot as plt\n",
    "import numpy as np"
   ]
  },
  {
   "cell_type": "code",
   "execution_count": 2,
   "metadata": {
    "pycharm": {
     "name": "#%%\n"
    },
    "slideshow": {
     "slide_type": "skip"
    }
   },
   "outputs": [],
   "source": [
    "from qiskit_machine_learning.neural_networks import CircuitQNN\n",
    "from qiskit.utils import QuantumInstance\n",
    "from qiskit import Aer, QuantumCircuit"
   ]
  },
  {
   "cell_type": "code",
   "execution_count": 3,
   "metadata": {
    "pycharm": {
     "name": "#%%\n"
    },
    "slideshow": {
     "slide_type": "-"
    }
   },
   "outputs": [],
   "source": [
    "from qiskit_machine_learning.algorithms.effective_dimension import EffectiveDimension, LocalEffectiveDimension"
   ]
  },
  {
   "cell_type": "code",
   "execution_count": 4,
   "metadata": {
    "pycharm": {
     "name": "#%%\n"
    },
    "slideshow": {
     "slide_type": "skip"
    }
   },
   "outputs": [],
   "source": [
    "# declare quantum instance\n",
    "qi_sv = QuantumInstance(Aer.get_backend(\"aer_simulator_statevector\"))"
   ]
  },
  {
   "cell_type": "markdown",
   "metadata": {
    "pycharm": {
     "name": "#%% md\n"
    },
    "slideshow": {
     "slide_type": "slide"
    }
   },
   "source": []
  },
  {
   "cell_type": "markdown",
   "source": [
    "This example will show how to use the `EffectiveDimension` class with a `CircuitQNN`, but `OpflowQNN`s can also be provided to this class."
   ],
   "metadata": {
    "collapsed": false
   }
  },
  {
   "cell_type": "code",
   "execution_count": 5,
   "metadata": {
    "pycharm": {
     "name": "#%%\n"
    },
    "slideshow": {
     "slide_type": "-"
    }
   },
   "outputs": [
    {
     "data": {
      "text/plain": "<Figure size 808.997x264.88 with 1 Axes>",
      "image/png": "[encoded data removed]"
     },
     "execution_count": 5,
     "metadata": {},
     "output_type": "execute_result"
    }
   ],
   "source": [
    "num_qubits = 4\n",
    "# create a feature map\n",
    "feature_map = ZFeatureMap(feature_dimension=num_qubits, reps=2)\n",
    "# create a variational circuit\n",
    "ansatz = RealAmplitudes(num_qubits, reps=9)\n",
    "\n",
    "# create quantum circuit\n",
    "qc = QuantumCircuit(num_qubits)\n",
    "qc.append(feature_map, range(num_qubits))\n",
    "qc.append(ansatz, range(num_qubits))\n",
    "qc.decompose().draw( 'mpl')"
   ]
  },
  {
   "cell_type": "code",
   "execution_count": 6,
   "outputs": [],
   "source": [
    "# parity maps bitstrings to 0 or 1\n",
    "def parity(x):\n",
    "    return \"{:b}\".format(x).count(\"1\") % 2\n",
    "output_shape = 2  # corresponds to the number of classes, possible outcomes of the (parity) mapping."
   ],
   "metadata": {
    "collapsed": false,
    "pycharm": {
     "name": "#%%\n"
    }
   }
  },
  {
   "cell_type": "code",
   "execution_count": 7,
   "outputs": [],
   "source": [
    "# construct QNN\n",
    "qnn = CircuitQNN(\n",
    "    qc,\n",
    "    input_params=feature_map.parameters,\n",
    "    weight_params=ansatz.parameters,\n",
    "    interpret=parity,\n",
    "    output_shape=output_shape,\n",
    "    sparse=False,\n",
    "    quantum_instance=qi_sv\n",
    ")"
   ],
   "metadata": {
    "collapsed": false,
    "pycharm": {
     "name": "#%%\n"
    }
   }
  },
  {
   "cell_type": "markdown",
   "source": [
    "### 2. Define the Problem"
   ],
   "metadata": {
    "collapsed": false
   }
  },
  {
   "cell_type": "markdown",
   "source": [
    "In order to define the problem, we need a series of sets of inputs and parameters, as well as the total number of data (n). The `inputs` and `params` are set in the class constructor, while the number of data is given during the call to the effective dimension computation to be able to test and compare how this measure changes with different dataset sizes."
   ],
   "metadata": {
    "collapsed": false
   }
  },
  {
   "cell_type": "code",
   "execution_count": 8,
   "outputs": [],
   "source": [
    "# we can set a callback to see how long each QNN pass takes\n",
    "def callback(msg):\n",
    "    print(msg)"
   ],
   "metadata": {
    "collapsed": false,
    "pycharm": {
     "name": "#%%\n"
    }
   }
  },
  {
   "cell_type": "code",
   "execution_count": 9,
   "outputs": [],
   "source": [
    "# we can provide user-defined inputs and parameters\n",
    "inputs = np.random.normal(0, 1, size=(10, qnn.num_inputs))\n",
    "params = np.random.uniform(0, 1, size=(10, qnn.num_weights))\n",
    "\n",
    "global_ed = EffectiveDimension(qnn=qnn,\n",
    "                               params= params,\n",
    "                               inputs = inputs,\n",
    "                               callback=callback)"
   ],
   "metadata": {
    "collapsed": false,
    "pycharm": {
     "name": "#%%\n"
    }
   }
  },
  {
   "cell_type": "code",
   "execution_count": 10,
   "outputs": [],
   "source": [
    "# but we can also set the total number of input and parameter sets and these will be randomly selected for us:\n",
    "num_inputs = 10\n",
    "num_params = 10\n",
    "\n",
    "global_ed = EffectiveDimension(qnn=qnn,\n",
    "                               num_params=num_params,\n",
    "                               num_inputs=num_inputs,\n",
    "                               callback=callback)"
   ],
   "metadata": {
    "collapsed": false,
    "pycharm": {
     "name": "#%%\n"
    }
   }
  },
  {
   "cell_type": "code",
   "execution_count": 11,
   "outputs": [],
   "source": [
    "# finally, we will define ranges to test different numbers of data, n\n",
    "n = [5000, 8000, 10000, 40000, 60000, 100000, 150000, 200000, 500000, 1000000]"
   ],
   "metadata": {
    "collapsed": false,
    "pycharm": {
     "name": "#%%\n"
    }
   }
  },
  {
   "cell_type": "markdown",
   "metadata": {
    "pycharm": {
     "name": "#%% md\n"
    },
    "slideshow": {
     "slide_type": "-"
    }
   },
   "source": [
    "### 3. Compute the Global Effective Dimension"
   ]
  },
  {
   "cell_type": "markdown",
   "source": [
    "By calling the effective dimension class with an array if input sizes \"n\", we can get a series of effective dimension values that will range between 0 and `d`, where `d` represents the dimensionality of the model, and it's practically obtained from the number of weights of the QNN. By dividing the result by `d`, we can obtain the normalized effective dimension, which correlates with the capacity of the model."
   ],
   "metadata": {
    "collapsed": false
   }
  },
  {
   "cell_type": "code",
   "execution_count": 12,
   "outputs": [
    {
     "name": "stdout",
     "output_type": "stream",
     "text": [
      "40\n"
     ]
    }
   ],
   "source": [
    "d = global_ed.num_weights()\n",
    "print(d)"
   ],
   "metadata": {
    "collapsed": false,
    "pycharm": {
     "name": "#%%\n"
    }
   }
  },
  {
   "cell_type": "code",
   "execution_count": 13,
   "metadata": {
    "pycharm": {
     "name": "#%%\n"
    },
    "slideshow": {
     "slide_type": "-"
    }
   },
   "outputs": [
    {
     "name": "stdout",
     "output_type": "stream",
     "text": [
      "iteration 0, time forward pass: 0.10596823692321777\n",
      "iteration 0, time backward pass: 10.457154035568237\n",
      "iteration 1, time forward pass: 0.04880404472351074\n",
      "iteration 1, time backward pass: 5.400159120559692\n",
      "iteration 2, time forward pass: 0.027145862579345703\n",
      "iteration 2, time backward pass: 6.366457223892212\n",
      "iteration 3, time forward pass: 0.026961803436279297\n",
      "iteration 3, time backward pass: 4.994707107543945\n",
      "iteration 4, time forward pass: 0.026348114013671875\n",
      "iteration 4, time backward pass: 4.608032941818237\n",
      "iteration 5, time forward pass: 0.028261184692382812\n",
      "iteration 5, time backward pass: 4.450346946716309\n",
      "iteration 6, time forward pass: 0.029237985610961914\n",
      "iteration 6, time backward pass: 4.406252145767212\n",
      "iteration 7, time forward pass: 0.0269010066986084\n",
      "iteration 7, time backward pass: 4.7517688274383545\n",
      "iteration 8, time forward pass: 0.02792811393737793\n",
      "iteration 8, time backward pass: 5.167931795120239\n",
      "iteration 9, time forward pass: 0.04049181938171387\n",
      "iteration 9, time backward pass: 4.7388269901275635\n"
     ]
    }
   ],
   "source": [
    "global_eff_dim= global_ed.get_effective_dimension(n = n)\n",
    "d = global_ed.num_weights()"
   ]
  },
  {
   "cell_type": "code",
   "execution_count": 14,
   "outputs": [
    {
     "name": "stdout",
     "output_type": "stream",
     "text": [
      "effdim:  [11.57191733 11.43125822 11.37318632 11.0981136  11.03749695 10.97001086\n",
      " 10.92233926 10.89122772 10.80457749 10.74927134]\n",
      "40\n"
     ]
    }
   ],
   "source": [
    "print(\"effdim: \", global_eff_dim)\n",
    "print(d)"
   ],
   "metadata": {
    "collapsed": false,
    "pycharm": {
     "name": "#%%\n"
    }
   }
  },
  {
   "cell_type": "code",
   "execution_count": 15,
   "metadata": {
    "pycharm": {
     "name": "#%%\n"
    },
    "slideshow": {
     "slide_type": "slide"
    }
   },
   "outputs": [
    {
     "data": {
      "text/plain": "<Figure size 432x288 with 1 Axes>",
      "image/png": "[encoded data removed]"
     },
     "metadata": {
      "needs_background": "light"
     },
     "output_type": "display_data"
    }
   ],
   "source": [
    "# plot the normalized effective dimension for the model\n",
    "plt.plot(n, np.array(global_eff_dim)/d)\n",
    "plt.xlabel('number of data')\n",
    "plt.ylabel('normalised effective dimension')\n",
    "plt.show()"
   ]
  },
  {
   "cell_type": "markdown",
   "metadata": {
    "pycharm": {
     "name": "#%% md\n"
    },
    "slideshow": {
     "slide_type": "slide"
    }
   },
   "source": [
    "## 3. Local Effective Dimension Example"
   ]
  },
  {
   "cell_type": "markdown",
   "source": [
    "As explained in the introduction, the local effective dimension algorithm presents only one key difference from the global one, and that is the number of parameter sets accepted (1 set). The `LocalEffectiveDimension` class enforces this constraint to ensure that these calculations are conceptually separate."
   ],
   "metadata": {
    "collapsed": false,
    "pycharm": {
     "name": "#%% md\n"
    }
   }
  },
  {
   "cell_type": "code",
   "execution_count": 16,
   "metadata": {
    "pycharm": {
     "name": "#%%\n"
    },
    "slideshow": {
     "slide_type": "slide"
    }
   },
   "outputs": [],
   "source": [
    "local_ed = LocalEffectiveDimension(qnn=qnn,\n",
    "                               params=params[0], # send only one set of parameters\n",
    "                               inputs=inputs)"
   ]
  },
  {
   "cell_type": "code",
   "execution_count": 17,
   "metadata": {
    "pycharm": {
     "name": "#%%\n"
    }
   },
   "outputs": [
    {
     "ename": "ValueError",
     "evalue": "too many values to unpack (expected 2)",
     "output_type": "error",
     "traceback": [
      "\u001B[0;31m---------------------------------------------------------------------------\u001B[0m",
      "\u001B[0;31mValueError\u001B[0m                                Traceback (most recent call last)",
      "Input \u001B[0;32mIn [17]\u001B[0m, in \u001B[0;36m<cell line: 1>\u001B[0;34m()\u001B[0m\n\u001B[0;32m----> 1\u001B[0m local_eff_dim, time \u001B[38;5;241m=\u001B[39m local_ed\u001B[38;5;241m.\u001B[39mget_effective_dimension(n \u001B[38;5;241m=\u001B[39m n)\n\u001B[1;32m      2\u001B[0m d \u001B[38;5;241m=\u001B[39m local_ed\u001B[38;5;241m.\u001B[39mnum_weights()\n\u001B[1;32m      3\u001B[0m \u001B[38;5;28mprint\u001B[39m(local_eff_dim)\n",
      "\u001B[0;31mValueError\u001B[0m: too many values to unpack (expected 2)"
     ]
    }
   ],
   "source": [
    "local_eff_dim, time = local_ed.get_effective_dimension(n = n)\n",
    "d = local_ed.num_weights()\n",
    "print(local_eff_dim)\n",
    "# plot the normalised effective dimension for the model\n",
    "plt.plot(n, np.array(local_eff_dim)/d)\n",
    "plt.xlabel('number of data')\n",
    "plt.ylabel('normalised effective dimension')\n",
    "plt.show()"
   ]
  },
  {
   "cell_type": "code",
   "execution_count": null,
   "outputs": [],
   "source": [],
   "metadata": {
    "collapsed": false,
    "pycharm": {
     "name": "#%%\n"
    }
   }
  }
 ],
 "metadata": {
  "celltoolbar": "Slideshow",
  "kernelspec": {
   "display_name": "Python 3 (ipykernel)",
   "language": "python",
   "name": "python3"
  },
  "language_info": {
   "codemirror_mode": {
    "name": "ipython",
    "version": 3
   },
   "file_extension": ".py",
   "mimetype": "text/x-python",
   "name": "python",
   "nbconvert_exporter": "python",
   "pygments_lexer": "ipython3",
   "version": "3.10.0"
  }
 },
 "nbformat": 4,
 "nbformat_minor": 1
}