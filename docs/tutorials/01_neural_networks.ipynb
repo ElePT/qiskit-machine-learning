{
 "cells": [
  {
   "cell_type": "markdown",
   "id": "brilliant-cross",
   "metadata": {},
   "source": [
    "# Quantum Neural Networks\n",
    "\n",
    "## Overview\n",
    "This notebook demonstrates different quantum neural network (QNN) implementations provided in `qiskit-machine-learning`, and how they can be integrated into basic quantum machine learning (QML) workflows.\n",
    "\n",
    "The tutorial is structured as follows:\n",
    "1. [Introduction](#Introduction)\n",
    "2. [How to Instantiate QNNs](#Instantiate)\n",
    "3. [How to Run a Forward Pass](#Forward)\n",
    "4. [How to Run a Backward Pass](#Backward)\n",
    "5. [Advanced Funtionality](#Advanced)\n",
    "6. [Conclusion](#Conclusion)"
   ]
  },
  {
   "attachments": {},
   "cell_type": "markdown",
   "id": "f47d2070",
   "metadata": {},
   "source": [
    "<a id='Introduction'></a>\n",
    "## 1. Introduction\n",
    "\n",
    "### 1.1. Quantum vs. Classical Neural Networks\n",
    "\n",
    "Classical neural networks are algorithmic models inspired by the human brain that can be trained to recognize patterns in data and learn to solve complex problems. They are based in a series of interconnected nodes, or *neurons*, organized in a layered structure, with parameters that can be learned by applying machine or deep learning training strategies.  \n",
    "\n",
    "The motivation behind quantum machine learning (QML) is to integrate notions from quantum computing and classical machine learning to open the way for new and improved learning schemes. QNNs apply this generic principle by combining classical neural networks and parametrized quantum circuits. Because they lie at an intersection between two fields, QNNs can be viewed under two perspectives:\n",
    "\n",
    "- From a **machine learning perspective**, QNNs are, once again, algorithmic models that can be trained to find hidden patterns in data in a similar manner to their classical counterparts (through backpropagation). These models are parametrized, and perform **data loading** with **input** parameters, and a **data processing** with trainable **weights**. \n",
    "\n",
    "- From a **quantum computing perspective**, QNNs are quantum algorithms based on parametrized quantum circuits that can be trained in a variational manner using classical optimizers. These circuits contain a **feature map** (with input parameters) and an **ansatz** (with trainable weights).\n",
    "\n",
    "As you can see, these two perspectives are complementary, and do not necessarily rely on strict definitions of concepts such as \"quantum neuron\" or what constitutes a \"layer\". \n",
    "\n",
    "### 1.2. Implementation in `qiskit-machine-learning`\n",
    "\n",
    "The QNNs in `qiskit-machine-learning` are meant as application-agnostic computational units that can be used for different use cases, and their setup will depend on the application they are needed for. The module contains an interface of the QNNs and two specific implementations:\n",
    "\n",
    "1. [NeuralNetwork](https://qiskit.org/documentation/machine-learning/stubs/qiskit_machine_learning.neural_networks.NeuralNetwork.html): The interface for neural networks. This is an abstract class all QNNs inherit from.\n",
    "2. [EstimatorQNN](https://qiskit.org/documentation/machine-learning/stubs/qiskit_machine_learning.neural_networks.EstimatorQNN.html): A network based on the evaluation of quantum mechanical observables.\n",
    "3. [SamplerQNN](https://qiskit.org/documentation/machine-learning/locale/fr_FR/stubs/qiskit_machine_learning.neural_networks.SamplerQNN.html): A network based on the samples resulting from measuring a quantum circuit.\n",
    "\n",
    "These implementations are based on the [qiskit primitives](https://qiskit.org/documentation/apidoc/primitives.html). The primitives are the entry point to run QNNs on either a simulator or real quantum hardware. Each implementation, `EstimatorQNN` and `SamplerQNN`, takes in an optional instance of their corresponding primitive, which can be any subclass of `BaseEstimator` and `BaseSampler` respectively.  \n",
    "\n",
    "The `qiskit.primitives` module provides a reference implementation for the `Sampler` and `Estimator` classes tu run statevector simulations. By default, if no instance is passed to a QNN class, an instance of the corresponding reference primitive (`Sampler` or `Estimator`) is created automatically by the network. \n",
    "For more information about primitives please refer to the [primitives documentation](https://qiskit.org/documentation/apidoc/primitives.html).\n",
    "\n",
    "The `NeuralNetwork` class is the interface for all QNNs available in `qiskit-machine-learning`.\n",
    "It exposes a forward and a backward pass that take data samples and trainable weights as input.\n",
    "\n",
    "It's important to note that `NeuralNetwork`s are \"stateless\". They do not contain any training capabilities, these are pushed to the actual algorithms or applications ([classifiers](https://qiskit.org/documentation/machine-learning/apidocs/qiskit_machine_learning.algorithms.html#classifiers), [regressors](https://qiskit.org/documentation/machine-learning/apidocs/qiskit_machine_learning.algorithms.html#regressors), etc), nor do they store the values for trainable weights."
   ]
  },
  {
   "cell_type": "markdown",
   "id": "ba316207",
   "metadata": {},
   "source": [
    "***\n",
    "\n",
    "Let's now look into specific examples for the two `NeuralNetwork` implementations. But before, let's set up the algorithmic seed to ensure that the results don't change between runs."
   ]
  },
  {
   "cell_type": "code",
   "execution_count": 1,
   "id": "annual-engine",
   "metadata": {},
   "outputs": [],
   "source": [
    "from qiskit.utils import algorithm_globals\n",
    "\n",
    "algorithm_globals.random_seed = 42"
   ]
  },
  {
   "cell_type": "markdown",
   "id": "billion-uniform",
   "metadata": {},
   "source": [
    "<a id='Instantiate'></a>\n",
    "## 2. How to Instantiate QNNs\n",
    "\n",
    "### 2.1. `EstimatorQNN`\n",
    "\n",
    "The `EstimatorQNN` takes in a parametrized quantum circuit as input, as well as an optional quantum mechanical observable, and outputs expectation value computations for the forward pass. \n",
    "\n",
    "The quantum circuit's parameters can be used to load classical data (feature map) as well as represent trainable weights (ansatz). The observable allows to define custom loss functions for advanced QNN training strategies. The `EstimatorQNN` also accepts lists of observables to construct more complex QNNs.\n",
    "\n",
    "Let's see an `EstimatorQNN` in action with a simple example. We start by constructing the parametrized circuit. This quantum circuit has two parameters, one represents a QNN input and the other represents a trainable weight:"
   ]
  },
  {
   "cell_type": "code",
   "execution_count": 2,
   "id": "popular-artwork",
   "metadata": {},
   "outputs": [
    {
     "data": {
      "image/png": "[encoded data removed]",
      "text/plain": [
       "<Figure size 352.675x117.056 with 1 Axes>"
      ]
     },
     "execution_count": 2,
     "metadata": {},
     "output_type": "execute_result"
    }
   ],
   "source": [
    "from qiskit.circuit import Parameter\n",
    "from qiskit import QuantumCircuit\n",
    "\n",
    "params1 = [Parameter(\"input1\"), Parameter(\"weight1\")]\n",
    "qc1 = QuantumCircuit(1)\n",
    "qc1.h(0)\n",
    "qc1.ry(params1[0], 0)\n",
    "qc1.rx(params1[1], 0)\n",
    "qc1.draw(\"mpl\")"
   ]
  },
  {
   "cell_type": "markdown",
   "id": "crucial-aquatic",
   "metadata": {},
   "source": [
    "We can now create an observable to define the expectation value computation. If not set, then the `EstimatorQNN` will automatically create the default observable $Z^{\\otimes n}$. Here, $n$ is the number of qubits of the quantum circuit.\n",
    "\n",
    "In this example, we will change things up and use the $Y^{\\otimes n}$ observable:"
   ]
  },
  {
   "cell_type": "code",
   "execution_count": 3,
   "id": "encouraging-magnitude",
   "metadata": {},
   "outputs": [],
   "source": [
    "from qiskit.quantum_info import SparsePauliOp\n",
    "\n",
    "observable1 = SparsePauliOp.from_list([(\"Y\" * qc1.num_qubits, 1)])"
   ]
  },
  {
   "cell_type": "markdown",
   "id": "dd1fb7ea",
   "metadata": {},
   "source": [
    "Together with the quantum circuit defined above, and the observable we have created, the `EstimatorQNN` constructor takes in the following keyword arguments:\n",
    "\n",
    "- `estimator`: optional primitive instance \n",
    "- `input_params`: list of parameters from que quantum circuit that should be treated as \"network inputs\"\n",
    "- `weight_params`: list of parameters from que quantum circuit that should be treated as \"network weights\"\n",
    "\n",
    "In this example, we previously decided that the first parameter of `params1` should be the input, while the second should be the weight. We will not set the `estimator` parameter, the network will create an instance of the reference `Estimator` primitive for us."
   ]
  },
  {
   "cell_type": "code",
   "execution_count": 4,
   "id": "italian-clear",
   "metadata": {},
   "outputs": [
    {
     "data": {
      "text/plain": [
       "<qiskit_machine_learning.neural_networks.estimator_qnn.EstimatorQNN at 0x7f9518737ee0>"
      ]
     },
     "execution_count": 4,
     "metadata": {},
     "output_type": "execute_result"
    }
   ],
   "source": [
    "from qiskit_machine_learning.neural_networks import EstimatorQNN\n",
    "\n",
    "estimator_qnn = EstimatorQNN(\n",
    "    circuit=qc1, \n",
    "    observables=observable1, \n",
    "    input_params=[params1[0]], \n",
    "    weight_params=[params1[1]]\n",
    ")\n",
    "estimator_qnn"
   ]
  },
  {
   "cell_type": "markdown",
   "id": "16ecacdb",
   "metadata": {},
   "source": [
    "Now, our QNN is ready to perform some backward and forward passes."
   ]
  },
  {
   "cell_type": "markdown",
   "id": "f1ac3811",
   "metadata": {},
   "source": [
    "### 2.2. `SamplerQNN`\n",
    "\n",
    "The `SamplerQNN` is instantiated in a similar way to the `EstimatorQNN`, but because it directly returns samples from measuring the quantum circuit, it does not require a custom observable. \n",
    "\n",
    "These output samples are interpreted by default as probabilities of measuring the integer index corresponding to a bitstring. However, the `SamplerQNN` also allows to specify an `interpret` function to post-process the samples. This function should be defined so that it takes a measured integer (from a bitstring) and map it to a new value, i.e. non-negative integer. \n",
    "\n",
    "**(!)** It's important to note that if a custom `interpret` function is defined, the `output_shape` cannot be inferred by the class, and **needs to be provided explicitly**. \n",
    "\n",
    "**(!)** It's also important to keep in mind that if no `interpret` function is used, the dimension of the probability vector will scale exponentially with the number of qubits. With a custom `interpret` function, this scaling can change. If, for instance, an index is mapped to the parity of the corresponding bitstring, i.e., to 0 or 1, the result will be a probability vector of length 2 independently of the number of qubits. "
   ]
  },
  {
   "cell_type": "markdown",
   "id": "82cc2353",
   "metadata": {},
   "source": [
    "Let's have a look at `SamplerQNN` by first designing a simple quantum parameterized circuit using [RealAmplitudes](https://qiskit.org/documentation/stubs/qiskit.circuit.library.RealAmplitudes.html). `RealAmplitudes` consists of a quantum circuit with alternating layers of Y rotations and CX entanglements."
   ]
  },
  {
   "cell_type": "code",
   "execution_count": 5,
   "id": "acceptable-standing",
   "metadata": {},
   "outputs": [
    {
     "data": {
      "image/png": "[encoded data removed]",
      "text/plain": [
       "<Figure size 370.906x200.667 with 1 Axes>"
      ]
     },
     "execution_count": 5,
     "metadata": {},
     "output_type": "execute_result"
    }
   ],
   "source": [
    "from qiskit.circuit.library import RealAmplitudes\n",
    "\n",
    "qc2 = RealAmplitudes(2, entanglement=\"linear\", reps=1)\n",
    "qc2.draw(output=\"mpl\")"
   ]
  },
  {
   "cell_type": "markdown",
   "id": "1e86defb",
   "metadata": {},
   "source": [
    "This circuit contains four parameters, so we can assign the first three as inputs, and the last parameter as trainable weight, and give this information to the `SamplerQNN`:"
   ]
  },
  {
   "cell_type": "code",
   "execution_count": 24,
   "id": "5c007d10",
   "metadata": {},
   "outputs": [
    {
     "data": {
      "text/plain": [
       "<qiskit_machine_learning.neural_networks.sampler_qnn.SamplerQNN at 0x7f953864ba30>"
      ]
     },
     "execution_count": 24,
     "metadata": {},
     "output_type": "execute_result"
    }
   ],
   "source": [
    "from qiskit_machine_learning.neural_networks import SamplerQNN\n",
    "\n",
    "sampler_qnn = SamplerQNN(circuit=qc2, \n",
    "                         input_params=qc2.parameters[:3], \n",
    "                         weight_params=qc2.parameters[3:])\n",
    "sampler_qnn"
   ]
  },
  {
   "cell_type": "markdown",
   "id": "efe6b8be",
   "metadata": {},
   "source": [
    "Please note that once again, we are choosing not to send the `Sampler` instance to the QNN and relying on the default."
   ]
  },
  {
   "cell_type": "markdown",
   "id": "0ac89b99",
   "metadata": {},
   "source": [
    "<a id='Forward'></a>\n",
    "## 3. How to Run a Forward Pass\n",
    "\n",
    "In a real setting, the inputs would be defined by the dataset, and the weights would be defined by the training algorithm or as part of a pre-trained model. However, for the sake of this tutorial, we will specify random sets of input and weights of the right dimension:"
   ]
  },
  {
   "cell_type": "code",
   "execution_count": 7,
   "id": "beneficial-summary",
   "metadata": {},
   "outputs": [],
   "source": [
    "# Estimator QNN Example\n",
    "input_estimator = algorithm_globals.random.random(estimator_qnn.num_inputs)\n",
    "weights_estimator = algorithm_globals.random.random(estimator_qnn.num_weights)"
   ]
  },
  {
   "cell_type": "code",
   "execution_count": 33,
   "id": "4d5c27e2",
   "metadata": {},
   "outputs": [
    {
     "name": "stdout",
     "output_type": "stream",
     "text": [
      "Number of input features for EstimatorQNN: 1 \n",
      "Input: [0.77395605]\n",
      "Number of trainable weights for EstimatorQNN: 1 \n",
      "Weights: [0.43887844]\n"
     ]
    }
   ],
   "source": [
    "print(f\"Number of input features for EstimatorQNN: {estimator_qnn.num_inputs} \\nInput: {input_estimator}\")\n",
    "print(f\"Number of trainable weights for EstimatorQNN: {estimator_qnn.num_weights} \\nWeights: {weights_estimator}\")"
   ]
  },
  {
   "cell_type": "code",
   "execution_count": 9,
   "id": "a0fd6253",
   "metadata": {
    "scrolled": true
   },
   "outputs": [],
   "source": [
    "# Sampler QNN Example\n",
    "input_sampler = algorithm_globals.random.random(sampler_qnn.num_inputs)\n",
    "weights_sampler = algorithm_globals.random.random(sampler_qnn.num_weights)"
   ]
  },
  {
   "cell_type": "code",
   "execution_count": 34,
   "id": "a008cebc",
   "metadata": {},
   "outputs": [
    {
     "name": "stdout",
     "output_type": "stream",
     "text": [
      "Number of input features for SamplerQNN: 3 \n",
      "Input: [0.85859792 0.69736803 0.09417735]\n",
      "Number of trainable weights for SamplerQNN: 1 \n",
      "Weights: [0.97562235]\n"
     ]
    }
   ],
   "source": [
    "print(f\"Number of input features for SamplerQNN: {sampler_qnn.num_inputs} \\nInput: {input_sampler}\")\n",
    "print(f\"Number of trainable weights for SamplerQNN: {sampler_qnn.num_weights} \\nWeights: {weights_sampler}\")"
   ]
  },
  {
   "cell_type": "markdown",
   "id": "7f1500df",
   "metadata": {},
   "source": [
    "Once we have the inputs and the weights, let's see the results for batched and unbatched passes."
   ]
  },
  {
   "cell_type": "markdown",
   "id": "de7e7302",
   "metadata": {},
   "source": [
    "### 3.1. Unbatched Forward Pass"
   ]
  },
  {
   "cell_type": "markdown",
   "id": "7fba01a3",
   "metadata": {},
   "source": [
    "For the `EstimatorQNN`, the expected output shape for the forward pass is `(1, num_qubits * num_observables)`:"
   ]
  },
  {
   "cell_type": "code",
   "execution_count": 11,
   "id": "54bed89e",
   "metadata": {},
   "outputs": [
    {
     "name": "stdout",
     "output_type": "stream",
     "text": [
      "Forward output shape for EstimatorQNN: (1, 1)\n"
     ]
    }
   ],
   "source": [
    "forward_estimator = estimator_qnn.forward(input_estimator, weights_estimator)\n",
    "\n",
    "print(f\"Forward output shape for EstimatorQNN: {forward_estimator.shape}\")"
   ]
  },
  {
   "cell_type": "markdown",
   "id": "94473b35",
   "metadata": {},
   "source": [
    "For the `SamplerQNN` (without custom interpret function), the expected output shape for the forward pass is `(1, 2**num_qubits)`:"
   ]
  },
  {
   "cell_type": "code",
   "execution_count": 12,
   "id": "cb847a75",
   "metadata": {},
   "outputs": [
    {
     "name": "stdout",
     "output_type": "stream",
     "text": [
      "Forward output shape for SamplerQNN: (1, 4)\n"
     ]
    }
   ],
   "source": [
    "forward_sampler = sampler_qnn.forward(input_sampler, weights_sampler)\n",
    "\n",
    "print(f\"Forward output shape for SamplerQNN: {forward_sampler.shape}\")"
   ]
  },
  {
   "cell_type": "markdown",
   "id": "1c843c95",
   "metadata": {},
   "source": [
    "### 3.2. Batched Forward Pass"
   ]
  },
  {
   "cell_type": "markdown",
   "id": "3612ff46",
   "metadata": {},
   "source": [
    "For the `EstimatorQNN`, the expected output shape for the forward pass is `(batch_size, num_qubits * num_observables)`:"
   ]
  },
  {
   "cell_type": "code",
   "execution_count": 13,
   "id": "2629892e",
   "metadata": {},
   "outputs": [
    {
     "name": "stdout",
     "output_type": "stream",
     "text": [
      "Forward output shape for EstimatorQNN: (2, 1)\n"
     ]
    }
   ],
   "source": [
    "forward_estimator_batched = estimator_qnn.forward([input_estimator, input_estimator], weights_estimator)\n",
    "\n",
    "print(f\"Forward output shape for EstimatorQNN: {forward_estimator_batched.shape}\")"
   ]
  },
  {
   "cell_type": "markdown",
   "id": "48f7b7bb",
   "metadata": {},
   "source": [
    "For the `SamplerQNN` (without custom interpret function), the expected output shape for the forward pass is `(batch_size, 2**num_qubits)`:"
   ]
  },
  {
   "cell_type": "code",
   "execution_count": 14,
   "id": "29eb2151",
   "metadata": {},
   "outputs": [
    {
     "name": "stdout",
     "output_type": "stream",
     "text": [
      "Forward output shape for SamplerQNN: (2, 4)\n"
     ]
    }
   ],
   "source": [
    "forward_sampler_batched = sampler_qnn.forward([input_sampler, input_sampler], weights_sampler)\n",
    "\n",
    "print(f\"Forward output shape for SamplerQNN: {forward_sampler_batched.shape}\")"
   ]
  },
  {
   "cell_type": "markdown",
   "id": "171b8ee1",
   "metadata": {},
   "source": [
    "<a id='Backward'></a>\n",
    "## 4. How to Run a Backward Pass\n",
    "\n",
    "Let's take advantage of the inputs and weights defined above to show how the backward pass works. This pass returns a tuple `(input_gradients, weight_gradients)`. By default, the backward pass will only calculate gradients with respect to the weight parameters. If you want to enable gradients with respect to the input parameters, you should set the following flag during the QNN instantiation:\n",
    "\n",
    "```python\n",
    "qnn = ...QNN(..., input_gradients=True)\n",
    "```"
   ]
  },
  {
   "cell_type": "markdown",
   "id": "e5b90338",
   "metadata": {},
   "source": [
    "### 4.1. Backward Pass without Input Gradients"
   ]
  },
  {
   "cell_type": "markdown",
   "id": "387c9700",
   "metadata": {},
   "source": [
    "For the `EstimatorQNN`, the expected output shape for the weight gradients is: `(batch_size, num_qubits * num_observables, num_weights)`:"
   ]
  },
  {
   "cell_type": "code",
   "execution_count": 15,
   "id": "entitled-reaction",
   "metadata": {
    "scrolled": false
   },
   "outputs": [
    {
     "name": "stdout",
     "output_type": "stream",
     "text": [
      "Input gradients shape for EstimatorQNN: None\n",
      "Weight gradients shape for EstimatorQNN: (1, 1, 1)\n"
     ]
    }
   ],
   "source": [
    "input_grad_e, weight_grad_e = estimator_qnn.backward(input_estimator, weights_estimator)\n",
    "\n",
    "print(f\"Input gradients shape for EstimatorQNN: {input_grad_e}\")\n",
    "print(f\"Weight gradients shape for EstimatorQNN: {weight_grad_e.shape}\")"
   ]
  },
  {
   "cell_type": "markdown",
   "id": "bebaa404",
   "metadata": {},
   "source": [
    "For the `SamplerQNN` (without custom interpret function), the expected output shape for the forward pass is `(batch_size, 2**num_qubits, num_weights)`:"
   ]
  },
  {
   "cell_type": "code",
   "execution_count": 16,
   "id": "eefacefe",
   "metadata": {},
   "outputs": [
    {
     "name": "stdout",
     "output_type": "stream",
     "text": [
      "Input gradients shape for SamplerQNN: None\n",
      "Weight gradients shape for SamplerQNN: (1, 4, 1)\n"
     ]
    }
   ],
   "source": [
    "input_grad_s, weight_grad_s = sampler_qnn.backward(input_sampler, weights_sampler)\n",
    "\n",
    "print(f\"Input gradients shape for SamplerQNN: {input_grad_s}\")\n",
    "print(f\"Weight gradients shape for SamplerQNN: {weight_grad_s.shape}\")"
   ]
  },
  {
   "cell_type": "markdown",
   "id": "74d28a00",
   "metadata": {},
   "source": [
    "### 4.2. Backward Pass with Input Gradients\n",
    "\n",
    "Let's enable the `input_gradients` to show what the expected output sizes are for this option."
   ]
  },
  {
   "cell_type": "code",
   "execution_count": 17,
   "id": "9ccc4641",
   "metadata": {},
   "outputs": [],
   "source": [
    "estimator_qnn.input_gradients = True\n",
    "sampler_qnn.input_gradients = True"
   ]
  },
  {
   "cell_type": "markdown",
   "id": "9d1ebc80",
   "metadata": {},
   "source": [
    "For the `EstimatorQNN`, the expected output shape for the input gradients is: `(batch_size, num_qubits * num_observables, num_inputs)`:"
   ]
  },
  {
   "cell_type": "code",
   "execution_count": 18,
   "id": "4332f42b",
   "metadata": {},
   "outputs": [
    {
     "name": "stdout",
     "output_type": "stream",
     "text": [
      "Input gradients shape for EstimatorQNN: (1, 1, 1)\n"
     ]
    }
   ],
   "source": [
    "input_grad_e, weight_grad_e = estimator_qnn.backward(input_estimator, weights_estimator)\n",
    "\n",
    "print(f\"Input gradients shape for EstimatorQNN: {input_grad_e.shape}\")"
   ]
  },
  {
   "cell_type": "markdown",
   "id": "b76da18a",
   "metadata": {},
   "source": [
    "For the `SamplerQNN` (without custom interpret function), the expected output shape for the forward pass is `(batch_size, 2**num_qubits, num_inputs)`:"
   ]
  },
  {
   "cell_type": "code",
   "execution_count": 19,
   "id": "3339f869",
   "metadata": {},
   "outputs": [
    {
     "name": "stdout",
     "output_type": "stream",
     "text": [
      "Input gradients shape for SamplerQNN: (1, 4, 3)\n"
     ]
    }
   ],
   "source": [
    "input_grad_s, weight_grad_s = sampler_qnn.backward(input_sampler, weights_sampler)\n",
    "\n",
    "print(f\"Input gradients shape for SamplerQNN: {input_grad_s.shape}\")"
   ]
  },
  {
   "cell_type": "markdown",
   "id": "45871b6d",
   "metadata": {},
   "source": [
    "<a id='Advanced'></a>\n",
    "## 5. Advanced Functionality"
   ]
  },
  {
   "cell_type": "markdown",
   "id": "4e1fb829",
   "metadata": {},
   "source": [
    "### 5.1. `EstimatorQNN` with Multiple Observables"
   ]
  },
  {
   "cell_type": "markdown",
   "id": "18c86fd7",
   "metadata": {},
   "source": [
    "The `EstimatorQNN` allows to pass lists of observables for more complex QNN architectures. For example (note the change in output shape):"
   ]
  },
  {
   "cell_type": "code",
   "execution_count": 20,
   "id": "34e1e2f0",
   "metadata": {},
   "outputs": [],
   "source": [
    "observable2 = SparsePauliOp.from_list([(\"Z\" * qc1.num_qubits, 1)])\n",
    "\n",
    "estimator_qnn2 = EstimatorQNN(\n",
    "                circuit=qc1,\n",
    "                observables=[observable1, observable2],\n",
    "                input_params=[params1[0]],\n",
    "                weight_params=[params1[1]],\n",
    "            )"
   ]
  },
  {
   "cell_type": "code",
   "execution_count": 21,
   "id": "e801632d",
   "metadata": {},
   "outputs": [
    {
     "name": "stdout",
     "output_type": "stream",
     "text": [
      "Forward output for EstimatorQNN1: (1, 1)\n",
      "Forward output for EstimatorQNN2: (1, 2)\n",
      "Backward output for EstimatorQNN1: (1, 1, 1)\n",
      "Backward output for EstimatorQNN2: (1, 2, 1)\n"
     ]
    }
   ],
   "source": [
    "forward_estimator2 = estimator_qnn2.forward(input_estimator, weights_estimator)\n",
    "input_grad_e2, weight_grad_e2 = estimator_qnn2.backward(input_estimator, weights_estimator)\n",
    "\n",
    "print(f\"Forward output for EstimatorQNN1: {forward_estimator.shape}\")\n",
    "print(f\"Forward output for EstimatorQNN2: {forward_estimator2.shape}\")\n",
    "print(f\"Backward output for EstimatorQNN1: {weight_grad_e.shape}\")\n",
    "print(f\"Backward output for EstimatorQNN2: {weight_grad_e2.shape}\")"
   ]
  },
  {
   "cell_type": "markdown",
   "id": "788ec9f1",
   "metadata": {},
   "source": [
    "### 5.2. `SamplerQNN` with custom `interpret`"
   ]
  },
  {
   "cell_type": "markdown",
   "id": "378ef3ba",
   "metadata": {},
   "source": [
    "One common `interpret` method for `SamplerQNN` is the `parity` function, that allows to perform binary classification. As explained in the instantiation section, the use of interpret functions will modify the output shape of the forward and backward passes (`output_shape` instead of `2**num_qubits`)."
   ]
  },
  {
   "cell_type": "code",
   "execution_count": 25,
   "id": "eed68d1a",
   "metadata": {},
   "outputs": [],
   "source": [
    "parity = lambda x: \"{:b}\".format(x).count(\"1\") % 2\n",
    "output_shape = 2  # parity = 0, 1\n",
    "\n",
    "sampler_qnn2 = SamplerQNN(circuit=qc2, \n",
    "                         input_params=qc2.parameters[:3], \n",
    "                         weight_params=qc2.parameters[3:],\n",
    "                         interpret = parity,\n",
    "                        output_shape = output_shape\n",
    "                         )"
   ]
  },
  {
   "cell_type": "code",
   "execution_count": 26,
   "id": "c2888195",
   "metadata": {},
   "outputs": [
    {
     "name": "stdout",
     "output_type": "stream",
     "text": [
      "Forward output for SamplerQNN1: (1, 4)\n",
      "Forward output for SamplerQNN2: (1, 2)\n",
      "Backward output for SamplerQNN1: (1, 4, 1)\n",
      "Backward output for SamplerQNN2: (1, 2, 1)\n"
     ]
    }
   ],
   "source": [
    "forward_sampler2 = sampler_qnn2.forward(input_sampler, weights_sampler)\n",
    "input_grad_s2, weight_grad_s2 = sampler_qnn2.backward(input_sampler, weights_sampler)\n",
    "\n",
    "print(f\"Forward output for SamplerQNN1: {forward_sampler.shape}\")\n",
    "print(f\"Forward output for SamplerQNN2: {forward_sampler2.shape}\")\n",
    "print(f\"Backward output for SamplerQNN1: {weight_grad_s.shape}\")\n",
    "print(f\"Backward output for SamplerQNN2: {weight_grad_s2.shape}\")"
   ]
  },
  {
   "cell_type": "markdown",
   "id": "66117e82",
   "metadata": {},
   "source": [
    "<a id='Conclusion'></a>\n",
    "## 6. Conclusion\n",
    "In this tutorial, we learn about the two neural networks provided by Qiskit Machine Learning, namely `EstimatorQNN` and `SamplerQNN`, which extend the base `NeuralNetwork` class.\n",
    "\n",
    "TODO"
   ]
  },
  {
   "cell_type": "code",
   "execution_count": null,
   "id": "appointed-shirt",
   "metadata": {},
   "outputs": [],
   "source": [
    "import qiskit.tools.jupyter\n",
    "\n",
    "%qiskit_version_table\n",
    "%qiskit_copyright\n"
   ]
  }
 ],
 "metadata": {
  "kernelspec": {
   "display_name": "Python 3 (ipykernel)",
   "language": "python",
   "name": "python3"
  },
  "language_info": {
   "codemirror_mode": {
    "name": "ipython",
    "version": 3
   },
   "file_extension": ".py",
   "mimetype": "text/x-python",
   "name": "python",
   "nbconvert_exporter": "python",
   "pygments_lexer": "ipython3",
   "version": "3.9.15"
  }
 },
 "nbformat": 4,
 "nbformat_minor": 5
}
