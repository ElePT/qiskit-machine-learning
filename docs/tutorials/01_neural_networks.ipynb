{
 "cells": [
  {
   "cell_type": "markdown",
   "id": "brilliant-cross",
   "metadata": {},
   "source": [
    "# Quantum Neural Networks\n",
    "\n",
    "## Overview\n",
    "This notebook demonstrates the different generic quantum neural network (QNN) implementations provided in `qiskit-machine-learning`.\n",
    "\n",
    "The tutorial is structured as follows:\n",
    "1. [Introduction](#1.-Introduction)\n",
    "2. [NeuralNetwork](#2.-NeuralNetwork)\n",
    "3. [EstimatorQNN](#3.-EstimatorQNN)\n",
    "4. [SamplerQNN](#4.-SamplerQNN)\n",
    "5. [Conclusion](#5.-Conclusion)"
   ]
  },
  {
   "cell_type": "markdown",
   "id": "f47d2070",
   "metadata": {},
   "source": [
    "## 1. Introduction\n",
    "Neural networks are algorithmic models inspired by the human brain that can be trained to recognize patterns in data and learn to solve complex problems. They are based in a series of interconnected nodes, or **neurons**, organized in a layered structure.\n",
    "\n",
    "Quantum neural networks are represented in `qiskit-machine-learning` as variational models, based on parametrized quantum circuits. These circuits normally contain a data loading section (know as **feature map**) with **input parameters**, as well as a data processing section (known as **ansatz**), where you can find the **trainable weights**. \n",
    "QNNs are trained following a variational scheme with classical optimizers. The network's forward pass provides an output, based on either circuit measurements or evaluations of quantum mechanical observables, that is used to evaluate a cost function, which is used to perform an optimization step, which leads to the update of the network's trainable weights during the backward pass.\n",
        "\n",
    "\n",
    "`qiskit-machine-learning`'s QNNs are meant as application-agnostic computational units that can be used for different use cases, and their setup will depend on the application they are needed for. The module contains one reference neural network interface and two QNN implementations: \n",
    "\n",
    "1. `NeuralNetwork`: The interface for neural networks. This is an abstract class all QNNs inherit from.\n",
    "2. `EstimatorQNN`: A network based on the evaluation of quantum mechanical observables.\n",
    "3. `SamplerQNN`: A network based on the samples resulting from measuring a quantum circuit.\n",
    "\n",
    "These QNNs are based on the Qiskit primitives. The primitives are the frontend to run QNNs on either a simulator or real quantum hardware. Each implementation, `EstimatorQNN` and `SamplerQNN`, takes in an optional instance of the corresponding primitive, which can be any subclass of `BaseEstimator` and `BaseSampler` respectively.  Qiskit provides the reference implementation as well as a backend-based implementation of the primitives. By default, if no instance is passed to a QNN class, an instance of the Qiskit reference primitive (`Sampler` or `Estimator`) is created automatically by the network. For more information about primitives please refer to [Qiskit primitives](https://qiskit.org/documentation/apidoc/primitives.html)."
   ]
  },
  {
   "cell_type": "markdown",
   "id": "ba316207",
   "metadata": {},
   "source": [
    "Let's begin with setting up the algorithmic seed to ensure that the results don't change between runs."
   ]
  },
  {
   "cell_type": "code",
   "execution_count": 1,
   "id": "annual-engine",
   "metadata": {},
   "outputs": [],
   "source": [
    "from qiskit.utils import algorithm_globals\n",
    "\n",
    "algorithm_globals.random_seed = 42"
   ]
  },
  {
   "cell_type": "markdown",
   "id": "roman-lindsay",
   "metadata": {},
   "source": [
    "## 2. `NeuralNetwork`\n",
    "\n",
    "The `NeuralNetwork` class is the interface for all neural networks available in `qiskit-machine-learning`.\n",
    "It exposes a forward and a backward pass taking the data samples and trainable weights as input.\n",
    "\n",
    "A `NeuralNetwork` does not contain any training capabilities, these are pushed to the actual algorithms or applications ([classifiers](https://qiskit.org/documentation/machine-learning/apidocs/qiskit_machine_learning.algorithms.html#classifiers), [distribution learners](https://qiskit.org/documentation/machine-learning/apidocs/qiskit_machine_learning.algorithms.html#distribution-learners), [regressors](https://qiskit.org/documentation/machine-learning/apidocs/qiskit_machine_learning.algorithms.html#regressors), etc), nor does it store the values for trainable weights.\n",
    "\n",
    "Suppose a `NeuralNetwork` called `nn`.\n",
    "Then, the forward pass (`nn.forward(input, weights)`) takes both flat inputs for the data and weights of length `nn.num_inputs` and `nn.num_weights`,  respectively, and returns an output of length `output_shape`. Similarly, the backward pass takes in the flattened `inputs` and `weights`, and returns the gradients with respect to inputs (optional), of length `num_inputs * output_shape`, and weights, of length `num_weights * output_shape`. \n",
    "`NeuralNetwork` supports batching of inputs and returns batches of output of the corresponding shape."
   ]
  },
  {
   "cell_type": "markdown",
   "id": "billion-uniform",
   "metadata": {},
   "source": [
    "## 3. `EstimatorQNN`\n",
    "\n",
    "The `EstimatorQNN` takes in a parametrized quantum circuit as input, as well as an optional quantum mechanical observable, and outputs expectation value computations for the forward pass. The quantum circuit can be seen as a combination of feature map and ansatz, as its parameters can be used to load classical data (feature map) as well as represent trainable weights (ansatz).\n",
    "The `EstimatorQNN` also allows lists of observables to construct more complex QNNs."
   ]
  },
  {
   "cell_type": "markdown",
   "id": "1d57a47c",
   "metadata": {},
   "source": [
    "### 3.1. Defining the quantum circuit and the observable\n",
    "We start by constructing the parametrized circuit to be given as input to the `EstimatorQNN`. The quantum circuit has 2 parameters, one represents a QNN input and the other represents a trainable weight."
   ]
  },
  {
   "cell_type": "code",
   "execution_count": 2,
   "id": "popular-artwork",
   "metadata": {},
   "outputs": [
    {
     "data": {
      "image/png": "[encoded data removed]",
      "text/plain": [
       "<Figure size 352.675x117.056 with 1 Axes>"
      ]
     },
     "execution_count": 2,
     "metadata": {},
     "output_type": "execute_result"
    }
   ],
   "source": [
    "from qiskit.circuit import Parameter\n",
    "from qiskit import QuantumCircuit\n",
    "\n",
    "params1 = [Parameter(\"input1\"), Parameter(\"weight1\")]\n",
    "qc1 = QuantumCircuit(1)\n",
    "qc1.h(0)\n",
    "qc1.ry(params1[0], 0)\n",
    "qc1.rx(params1[1], 0)\n",
    "qc1.draw(\"mpl\")"
   ]
  },
  {
   "cell_type": "markdown",
   "id": "crucial-aquatic",
   "metadata": {},
   "source": [
    "We now create an observable to define the expectation value computation. If not set, then the `EstimatorQNN` will automatically create the default observable $Z^{\\otimes n}$. Here, $n$ is the number of qubits."
   ]
  },
  {
   "cell_type": "code",
   "execution_count": 3,
   "id": "encouraging-magnitude",
   "metadata": {},
   "outputs": [],
   "source": [
    "from qiskit.quantum_info import SparsePauliOp\n",
    "\n",
    "observable1 = SparsePauliOp.from_list([(\"Y\" * qc1.num_qubits, 1)])"
   ]
  },
  {
   "cell_type": "markdown",
   "id": "dd1fb7ea",
   "metadata": {},
   "source": [
    "### 3.2. Constructing EstimatorQNN using the circuit and observable\n",
    "Now we construct `EstimatorQNN` with the quantum circuit, observable, input parameters and weight parameters. We don't set the `estimator` parameter, the network will create an instance of the reference `Estimator` primitive for us."
   ]
  },
  {
   "cell_type": "code",
   "execution_count": 4,
   "id": "italian-clear",
   "metadata": {},
   "outputs": [],
   "source": [
    "from qiskit_machine_learning.neural_networks import EstimatorQNN\n",
    "\n",
    "qnn1 = EstimatorQNN(\n",
    "    circuit=qc1, observables=observable1, input_params=[params1[0]], weight_params=[params1[1]]\n",
    ")"
   ]
  },
  {
   "cell_type": "markdown",
   "id": "211ca987",
   "metadata": {},
   "source": [
    "### 3.3. Specifying input and weights\n",
    "We specify the inputs and the weights randomly for passing in the neural network."
   ]
  },
  {
   "cell_type": "code",
   "execution_count": 5,
   "id": "forty-routine",
   "metadata": {},
   "outputs": [
    {
     "name": "stdout",
     "output_type": "stream",
     "text": [
      "Number of input features: 1\n",
      "Input: [0.77395605]\n",
      "\n",
      "Number of trainable weights: 1\n",
      "Trainable weight: [0.43887844]\n"
     ]
    }
   ],
   "source": [
    "print(f\"Number of input features: {qnn1.num_inputs}\")\n",
    "input1 = algorithm_globals.random.random(qnn1.num_inputs)\n",
    "print(f\"Input: {input1}\", end=\"\\n\\n\")\n",
    "\n",
    "print(f\"Number of trainable weights: {qnn1.num_weights}\")\n",
    "weights1 = algorithm_globals.random.random(qnn1.num_weights)\n",
    "print(f\"Trainable weight: {weights1}\")"
   ]
  },
  {
   "cell_type": "markdown",
   "id": "6bdfef87",
   "metadata": {},
   "source": [
    "### 3.4. Forward and Batched Forward Pass\n",
    "QNN forward pass outputs the expectation value corresponding to the input and weights passed as parameters."
   ]
  },
  {
   "cell_type": "code",
   "execution_count": 6,
   "id": "recovered-marriage",
   "metadata": {},
   "outputs": [
    {
     "data": {
      "text/plain": [
       "array([[0.2970094]])"
      ]
     },
     "execution_count": 6,
     "metadata": {},
     "output_type": "execute_result"
    }
   ],
   "source": [
    "qnn1.forward(input1, weights1)"
   ]
  },
  {
   "cell_type": "markdown",
   "id": "b0dae5cb",
   "metadata": {},
   "source": [
    "QNN batched forward pass outputs the expectation value corresponding to multiple input values passed as a parameter in batches, along with weights."
   ]
  },
  {
   "cell_type": "code",
   "execution_count": 7,
   "id": "approved-compound",
   "metadata": {},
   "outputs": [
    {
     "data": {
      "text/plain": [
       "array([[0.2970094],\n",
       "       [0.2970094]])"
      ]
     },
     "execution_count": 7,
     "metadata": {},
     "output_type": "execute_result"
    }
   ],
   "source": [
    "qnn1.forward([input1, input1], weights1)"
   ]
  },
  {
   "cell_type": "markdown",
   "id": "d315b363",
   "metadata": {},
   "source": [
    "### 3.5. Backward and Batched Backward Pass\n",
    "QNN backward pass returns the input and weight gradient, in this order, calculated while backpropagation. We get \"None\" for the gradients with respect to input data."
   ]
  },
  {
   "cell_type": "code",
   "execution_count": 8,
   "id": "considerable-embassy",
   "metadata": {},
   "outputs": [
    {
     "data": {
      "text/plain": [
       "(None, array([[[0.63272767]]]))"
      ]
     },
     "execution_count": 8,
     "metadata": {},
     "output_type": "execute_result"
    }
   ],
   "source": [
    "qnn1.backward(input1, weights1)"
   ]
  },
  {
   "cell_type": "markdown",
   "id": "02685b1c",
   "metadata": {},
   "source": [
    "QNN batched backward pass works just as the simple backward pass, with the difference of taking multiple inputs as parameter in batches."
   ]
  },
  {
   "cell_type": "code",
   "execution_count": 9,
   "id": "moved-matrix",
   "metadata": {},
   "outputs": [
    {
     "data": {
      "text/plain": [
       "(None,\n",
       " array([[[0.63272767]],\n",
       " \n",
       "        [[0.63272767]]]))"
      ]
     },
     "execution_count": 9,
     "metadata": {},
     "output_type": "execute_result"
    }
   ],
   "source": [
    "qnn1.backward([input1, input1], weights1)"
   ]
  },
  {
   "cell_type": "markdown",
   "id": "completed-dressing",
   "metadata": {},
   "source": [
    "### 3.6. Constructing a more complex EstimatorQNN\n",
    "We can also combine multiple observables in a list which allows for creation of more complex QNNs."
   ]
  },
  {
   "cell_type": "code",
   "execution_count": 10,
   "id": "academic-roads",
   "metadata": {},
   "outputs": [],
   "source": [
    "observable2 = SparsePauliOp.from_list([(\"Z\" * qc1.num_qubits, 1)])\n",
    "\n",
    "qnn2 = EstimatorQNN(\n",
    "    circuit=qc1,\n",
    "    observables=[observable1, observable2],\n",
    "    input_params=[params1[0]],\n",
    "    weight_params=[params1[1]],\n",
    ")"
   ]
  },
  {
   "cell_type": "markdown",
   "id": "8337df48",
   "metadata": {},
   "source": [
    "We can get the forward and backward pass for the complex QNNs just as before."
   ]
  },
  {
   "cell_type": "code",
   "execution_count": 11,
   "id": "important-density",
   "metadata": {},
   "outputs": [
    {
     "name": "stdout",
     "output_type": "stream",
     "text": [
      "Forward Pass: \n",
      " [[ 0.2970094  -0.63272767]]\n",
      "\n",
      "Backward Pass: \n",
      " (None, array([[[0.63272767],\n",
      "        [0.2970094 ]]]))\n"
     ]
    }
   ],
   "source": [
    "print(\"Forward Pass: \\n\", qnn2.forward(input1, weights1), end=\"\\n\\n\")\n",
    "print(\"Backward Pass: \\n\", qnn2.backward(input1, weights1))"
   ]
  },
  {
   "cell_type": "markdown",
   "id": "according-watch",
   "metadata": {},
   "source": [
    "## 4. `SamplerQNN`\n",
    "\n",
    "The `SamplerQNN` is based on a (parametrized) `QuantumCircuit`.\n",
    "This can take input as well as weight parameters and produces samples from the measurement. The samples are interpreted as probabilities of measuring the integer index corresponding to a bitstring. Gradients can be estimated efficiently and the `SamplerQNN` provides a backward pass for the same.\n",
    "\n",
    "Further, the `SamplerQNN` allows to specify an `interpret` function to post-process the samples. This is expected to take a measured integer (from a bitstring) and map it to a new index, i.e. non-negative integer. In this case, the output shape needs to be provided and the probabilities are aggregated accordingly.\n",
    "\n",
    "If no `interpret` function is used, the dimension of the probability vector scales exponentially with the number of qubits. In case of an `interpret` function it depends on the expected outcome. If, for instance, an index is mapped to the parity of the corresponding bitstring, i.e., to 0 or 1, a dense output makes sense and the result will be a probability vector of length 2."
   ]
  },
  {
   "cell_type": "markdown",
   "id": "82cc2353",
   "metadata": {},
   "source": [
    "### 4.1. Defining a quantum circuit\n",
    "Let's have a look at `SamplerQNN` by first constructing a simple quantum parameterized circuit using RealAmplitudes."
   ]
  },
  {
   "cell_type": "code",
   "execution_count": 12,
   "id": "acceptable-standing",
   "metadata": {},
   "outputs": [
    {
     "data": {
      "image/png": "[encoded data removed]",
      "text/plain": [
       "<Figure size 370.906x200.667 with 1 Axes>"
      ]
     },
     "execution_count": 12,
     "metadata": {},
     "output_type": "execute_result"
    }
   ],
   "source": [
    "from qiskit.circuit.library import RealAmplitudes\n",
    "\n",
    "qc = RealAmplitudes(2, entanglement=\"linear\", reps=1)\n",
    "qc.draw(output=\"mpl\")"
   ]
  },
  {
   "cell_type": "markdown",
   "id": "olympic-coral",
   "metadata": {},
   "source": [
    "### 4.2. Constructing SamplerQNN using the circuit\n",
    "Now we define the `SamplerQNN` by providing the parameterized circuit, input and weight as parameters. We don't set the `sampler` parameter, therefore the network will create an instance of the reference `Sampler` primitive for us."
   ]
  },
  {
   "cell_type": "code",
   "execution_count": 13,
   "id": "indoor-disorder",
   "metadata": {},
   "outputs": [],
   "source": [
    "from qiskit_machine_learning.neural_networks import SamplerQNN\n",
    "\n",
    "qnn4 = SamplerQNN(circuit=qc, input_params=[], weight_params=qc.parameters)"
   ]
  },
  {
   "cell_type": "markdown",
   "id": "0ac89b99",
   "metadata": {},
   "source": [
    "### 4.3. Specifying input and weights\n",
    "Now we specify the input and weights randomly to run the neural network with."
   ]
  },
  {
   "cell_type": "code",
   "execution_count": 14,
   "id": "beneficial-summary",
   "metadata": {},
   "outputs": [
    {
     "name": "stdout",
     "output_type": "stream",
     "text": [
      "Number of input features: 0\n",
      "Input: []\n",
      "\n",
      "Number of trainable weights: 4\n",
      "Trainable weights: [0.85859792 0.69736803 0.09417735 0.97562235]\n"
     ]
    }
   ],
   "source": [
    "print(f\"Number of input features: {qnn4.num_inputs}\")\n",
    "input4 = algorithm_globals.random.random(qnn4.num_inputs)\n",
    "print(f\"Input: {input4}\", end=\"\\n\\n\")\n",
    "\n",
    "print(f\"Number of trainable weights: {qnn4.num_weights}\")\n",
    "weights4 = algorithm_globals.random.random(qnn4.num_weights)\n",
    "print(f\"Trainable weights: {weights4}\")"
   ]
  },
  {
   "cell_type": "markdown",
   "id": "e5b90338",
   "metadata": {},
   "source": [
    "### 4.4. Forward and Backward Pass\n",
    "QNN forward pass takes in input and weights and returns the expected value as output."
   ]
  },
  {
   "cell_type": "code",
   "execution_count": 15,
   "id": "jewish-elements",
   "metadata": {},
   "outputs": [
    {
     "data": {
      "text/plain": [
       "array([[0.37369597, 0.00083983, 0.42874976, 0.19671444]])"
      ]
     },
     "execution_count": 15,
     "metadata": {},
     "output_type": "execute_result"
    }
   ],
   "source": [
    "qnn4.forward(input4, weights4)"
   ]
  },
  {
   "cell_type": "markdown",
   "id": "387c9700",
   "metadata": {},
   "source": [
    "QNN backward pass returns a tuple of matrices consisting of the input and weight gradients from backpropagation. We get \"None\" for the gradients with respect to input data."
   ]
  },
  {
   "cell_type": "code",
   "execution_count": 16,
   "id": "entitled-reaction",
   "metadata": {
    "scrolled": true
   },
   "outputs": [
    {
     "data": {
      "text/plain": [
       "(None,\n",
       " array([[[-0.16667913, -0.42400024,  0.0177156 , -0.40027747],\n",
       "         [ 0.00403062, -0.0110119 , -0.0177156 ,  0.0128533 ],\n",
       "         [-0.22984019,  0.39671924, -0.29041568,  0.40027747],\n",
       "         [ 0.3924887 ,  0.0382929 ,  0.29041568, -0.0128533 ]]]))"
      ]
     },
     "execution_count": 16,
     "metadata": {},
     "output_type": "execute_result"
    }
   ],
   "source": [
    "qnn4.backward(input4, weights4)"
   ]
  },
  {
   "cell_type": "markdown",
   "id": "66117e82",
   "metadata": {},
   "source": [
    "## 5. Conclusion\n",
    "In this tutorial, we learn about the two neural networks provided by Qiskit Machine Learning, namely `EstimatorQNN` and `SamplerQNN`, which extend the based `NeuralNetwork` class.\n",
    "\n",
    "For EstimatorQNN we implemented the following steps:\n",
    "1. Construct an EstimatorQNN using a circuit, observable, input and weights\n",
    "2. Perform Forward Pass and batched Forward Pass\n",
    "3. Perform Backward Pass and batched Backward Pass\n",
    "4. Combine multiple observables for more complex workflows\n",
    "\n",
    "Likewise for `SamplerQNN`, we defined the neural network using a circuit and iterated through forward and backward propagation."
   ]
  },
  {
   "cell_type": "code",
   "execution_count": 17,
   "id": "appointed-shirt",
   "metadata": {},
   "outputs": [
    {
     "data": {
      "text/html": [
       "<h3>Version Information</h3><table><tr><th>Qiskit Software</th><th>Version</th></tr><tr><td><code>qiskit-terra</code></td><td>0.22.2</td></tr><tr><td><code>qiskit-aer</code></td><td>0.11.1</td></tr><tr><td><code>qiskit-ibmq-provider</code></td><td>0.19.2</td></tr><tr><td><code>qiskit</code></td><td>0.39.2</td></tr><tr><td><code>qiskit-machine-learning</code></td><td>0.6.0</td></tr><tr><th>System information</th></tr><tr><td>Python version</td><td>3.9.5</td></tr><tr><td>Python compiler</td><td>GCC 9.3.0</td></tr><tr><td>Python build</td><td>default, Nov 23 2021 15:27:38</td></tr><tr><td>OS</td><td>Linux</td></tr><tr><td>CPUs</td><td>2</td></tr><tr><td>Memory (Gb)</td><td>3.7498855590820312</td></tr><tr><td colspan='2'>Thu Nov 24 00:33:20 2022 IST</td></tr></table>"
      ],
      "text/plain": [
       "<IPython.core.display.HTML object>"
      ]
     },
     "metadata": {},
     "output_type": "display_data"
    },
    {
     "data": {
      "text/html": [
       "<div style='width: 100%; background-color:#d5d9e0;padding-left: 10px; padding-bottom: 10px; padding-right: 10px; padding-top: 5px'><h3>This code is a part of Qiskit</h3><p>&copy; Copyright IBM 2017, 2022.</p><p>This code is licensed under the Apache License, Version 2.0. You may<br>obtain a copy of this license in the LICENSE.txt file in the root directory<br> of this source tree or at http://www.apache.org/licenses/LICENSE-2.0.<p>Any modifications or derivative works of this code must retain this<br>copyright notice, and modified files need to carry a notice indicating<br>that they have been altered from the originals.</p></div>"
      ],
      "text/plain": [
       "<IPython.core.display.HTML object>"
      ]
     },
     "metadata": {},
     "output_type": "display_data"
    }
   ],
   "source": [
    "import qiskit.tools.jupyter\n",
    "\n",
    "%qiskit_version_table\n",
    "%qiskit_copyright"
   ]
  }
 ],
 "metadata": {
  "kernelspec": {
   "display_name": "Python 3 (ipykernel)",
   "language": "python",
   "name": "python3"
  },
  "language_info": {
   "codemirror_mode": {
    "name": "ipython",
    "version": 3
   },
   "file_extension": ".py",
   "mimetype": "text/x-python",
   "name": "python",
   "nbconvert_exporter": "python",
   "pygments_lexer": "ipython3",
   "version": "3.9.5"
  }
 },
 "nbformat": 4,
 "nbformat_minor": 5
}
