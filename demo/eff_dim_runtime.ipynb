{
 "cells": [
  {
   "cell_type": "code",
   "execution_count": 1,
   "outputs": [],
   "source": [
    "from tokens import Tokens"
   ],
   "metadata": {
    "collapsed": false,
    "pycharm": {
     "name": "#%%\n"
    }
   }
  },
  {
   "cell_type": "code",
   "execution_count": 2,
   "metadata": {
    "collapsed": true
   },
   "outputs": [],
   "source": [
    "import os\n",
    "from qiskit_ibm_runtime import IBMRuntimeService\n",
    "# Save an IBM Quantum account.\n",
    "IBMRuntimeService.save_account(auth=\"legacy\", token=Tokens.IBMQ_TOKEN, overwrite=True)\n",
    "service = IBMRuntimeService(auth=\"legacy\")"
   ]
  },
  {
   "cell_type": "code",
   "execution_count": 3,
   "outputs": [
    {
     "name": "stdout",
     "output_type": "stream",
     "text": [
      "[<IBMBackend('ibmq_qasm_simulator')>, <IBMBackend('ibmq_armonk')>, <IBMBackend('ibmq_montreal')>, <IBMBackend('ibmq_toronto')>, <IBMBackend('ibmq_bogota')>, <IBMBackend('ibmq_mumbai')>, <IBMBackend('ibmq_lima')>, <IBMBackend('ibmq_belem')>, <IBMBackend('ibmq_quito')>, <IBMBackend('ibmq_guadalupe')>, <IBMBackend('ibmq_brooklyn')>, <IBMBackend('ibmq_jakarta')>, <IBMBackend('ibmq_manila')>, <IBMBackend('ibm_hanoi')>, <IBMBackend('ibm_lagos')>, <IBMBackend('ibm_cairo')>, <IBMBackend('ibm_auckland')>, <IBMBackend('ibm_perth')>, <IBMBackend('ibm_washington')>, <IBMBackend('ibmq_santiago')>, <IBMBackend('simulator_statevector')>, <IBMBackend('simulator_mps')>, <IBMBackend('simulator_extended_stabilizer')>, <IBMBackend('simulator_stabilizer')>]\n"
     ]
    }
   ],
   "source": [
    "print(service.backends())"
   ],
   "metadata": {
    "collapsed": false,
    "pycharm": {
     "name": "#%%\n"
    }
   }
  },
  {
   "cell_type": "code",
   "execution_count": 160,
   "outputs": [
    {
     "name": "stdout",
     "output_type": "stream",
     "text": [
      "eff-dim-A5Re9k41b8\n"
     ]
    }
   ],
   "source": [
    "hw_data = os.path.join(\n",
    "    os.getcwd(), \"../qiskit_machine_learning/runtime/ed_runtime_program.py\"\n",
    ")\n",
    "hw_json = os.path.join(\n",
    "    os.getcwd(), \"eff_dim_metadata.json\"\n",
    ")\n",
    "\n",
    "program_id = service.upload_program(data=hw_data, metadata=hw_json)\n",
    "print(program_id)"
   ],
   "metadata": {
    "collapsed": false,
    "pycharm": {
     "name": "#%%\n"
    }
   }
  },
  {
   "cell_type": "code",
   "execution_count": 161,
   "outputs": [
    {
     "name": "stdout",
     "output_type": "stream",
     "text": [
      "==================================================\n",
      "eff-dim-A5Re9k41b8:\n",
      "  Name: eff-dim\n",
      "  Description: A sample runtime program.\n",
      "==================================================\n",
      "eff-dim-OrQE3jYAWr:\n",
      "  Name: eff-dim\n",
      "  Description: A sample runtime program.\n",
      "==================================================\n",
      "eff-dim-45jnA6Ndw5:\n",
      "  Name: eff-dim\n",
      "  Description: A sample runtime program.\n",
      "==================================================\n",
      "eff-dim-05E6JqmEvy:\n",
      "  Name: eff-dim\n",
      "  Description: A sample runtime program.\n",
      "==================================================\n",
      "eff-dim-pyY9Z69Ldy:\n",
      "  Name: eff-dim\n",
      "  Description: A sample runtime program.\n",
      "==================================================\n",
      "eff-dim-45jXR2qALr:\n",
      "  Name: eff-dim\n",
      "  Description: A sample runtime program.\n",
      "==================================================\n",
      "eff-dim-pyY4BNX7k5:\n",
      "  Name: eff-dim\n",
      "  Description: A sample runtime program.\n",
      "==================================================\n",
      "eff-dim-XrgkJEB2qr:\n",
      "  Name: eff-dim\n",
      "  Description: A sample runtime program.\n",
      "==================================================\n",
      "eff-dim-Wr09dBl2n8:\n",
      "  Name: eff-dim\n",
      "  Description: A sample runtime program.\n",
      "==================================================\n",
      "eff-dim-2rGOMEdL4r:\n",
      "  Name: eff-dim\n",
      "  Description: A sample runtime program.\n",
      "==================================================\n",
      "hello-world:\n",
      "  Name: hello-world\n",
      "  Description: A sample runtime program.\n",
      "==================================================\n",
      "qaoa:\n",
      "  Name: qaoa\n",
      "  Description: Qiskit Runtime QAOA program\n",
      "==================================================\n",
      "torch-train:\n",
      "  Name: torch-train\n",
      "  Description: A runtime program to train hybrid QNN models with Pytorch.\n",
      "==================================================\n",
      "torch-infer:\n",
      "  Name: torch-infer\n",
      "  Description: A runtime program to run inference and calculate the scores of Hybrid QNN models with Pytorch.\n",
      "==================================================\n",
      "qasm3-runner:\n",
      "  Name: qasm3-runner\n",
      "  Description: A runtime program that takes one or more circuits, converts them to OpenQASM3, compiles them, executes them, and optionally applies measurement error mitigation. This program can also take and execute one or more OpenQASM3 strings. Note that this program can only run on a backend that supports OpenQASM3.\n",
      "==================================================\n",
      "sampler:\n",
      "  Name: sampler\n",
      "  Description: Sample distributions generated by given circuits executed on the target backend.\n",
      "==================================================\n",
      "estimator:\n",
      "  Name: estimator\n",
      "  Description: Expectation value estimator. A runtime program that estimates the value of an observable for an input quantum circuit. This program is in beta mode and is only available to select accounts.\n",
      "==================================================\n",
      "sample-expval:\n",
      "  Name: sample-expval\n",
      "  Description: A sample expectation value program.\n",
      "==================================================\n",
      "vqe:\n",
      "  Name: vqe\n",
      "  Description: Variational Quantum Eigensolver (VQE) to find the minimal eigenvalue of a Hamiltonian.\n",
      "==================================================\n",
      "circuit-runner:\n",
      "  Name: circuit-runner\n",
      "  Description: A runtime program that takes one or more circuits, compiles them, executes them, and optionally applies measurement error mitigation.\n"
     ]
    }
   ],
   "source": [
    "service.pprint_programs()"
   ],
   "metadata": {
    "collapsed": false,
    "pycharm": {
     "name": "#%%\n"
    }
   }
  },
  {
   "cell_type": "code",
   "execution_count": 162,
   "outputs": [],
   "source": [
    "from qiskit_machine_learning.runtime.ed_runtime_client import EffDimRuntimeClient"
   ],
   "metadata": {
    "collapsed": false,
    "pycharm": {
     "name": "#%%\n"
    }
   }
  },
  {
   "cell_type": "code",
   "execution_count": 163,
   "outputs": [],
   "source": [
    "from qiskit.circuit.library import ZFeatureMap, RealAmplitudes\n",
    "from qiskit import Aer, QuantumCircuit\n",
    "from qiskit_machine_learning.neural_networks import TwoLayerQNN, CircuitQNN"
   ],
   "metadata": {
    "collapsed": false,
    "pycharm": {
     "name": "#%%\n"
    }
   }
  },
  {
   "cell_type": "code",
   "execution_count": 164,
   "outputs": [],
   "source": [
    "# create ranges for the number of data, n\n",
    "# n = [5000, 8000, 10000, 40000, 60000, 100000, 150000, 200000, 500000, 1000000]\n",
    "n=[[5000]]\n",
    "# number of times to repeat the variational circuit\n",
    "blocks = 1\n",
    "\n",
    "# number of qubits, data samples and parameter sets to estimate the effective dimension\n",
    "num_qubits = 3\n",
    "num_inputs = 1\n",
    "num_thetas = 1\n",
    "\n",
    "# create a feature map\n",
    "feature_map = ZFeatureMap(feature_dimension=num_qubits, reps=1)\n",
    "\n",
    "# create a variational circuit\n",
    "ansatz = RealAmplitudes(num_qubits, reps=blocks)\n",
    "\n",
    "# create quantum circuit\n",
    "qc = QuantumCircuit(num_qubits)\n",
    "qc.append(feature_map, range(num_qubits))\n",
    "qc.append(ansatz, range(num_qubits))\n",
    "qc.decompose().draw( 'mpl')\n",
    "\n",
    "# parity maps bitstrings to 0 or 1\n",
    "def parity(x):\n",
    "    return \"{:b}\".format(x).count(\"1\") % 2\n",
    "output_shape = 2  # corresponds to the number of classes, possible outcomes of the (parity) mapping.\n",
    "# construct QNN\n",
    "qnn = CircuitQNN(\n",
    "    qc,\n",
    "    input_params=feature_map.parameters,\n",
    "    weight_params=ansatz.parameters,\n",
    "    interpret=parity,\n",
    "    output_shape=output_shape,\n",
    "    sparse=False\n",
    ")"
   ],
   "metadata": {
    "collapsed": false,
    "pycharm": {
     "name": "#%%\n"
    }
   }
  },
  {
   "cell_type": "code",
   "execution_count": 165,
   "outputs": [
    {
     "name": "stdout",
     "output_type": "stream",
     "text": [
      "<IBMBackend('simulator_statevector')>\n"
     ]
    }
   ],
   "source": [
    "# backend = Aer.get_backend('qasm_simulator')\n",
    "# backend = service.least_busy(operational=True, min_num_qubits=5)\n",
    "backend = service.backend(\"simulator_statevector\")\n",
    "print(backend)\n",
    "# token = \"8d516ef8c3f646c312713365fa45a38b0d7ea5bd88f483a2be804511a375497d1631f6f2351ae06caef4c8962bbb91f7fcd07e779226f8449e485c735a5bc8bd\""
   ],
   "metadata": {
    "collapsed": false,
    "pycharm": {
     "name": "#%%\n"
    }
   }
  },
  {
   "cell_type": "code",
   "execution_count": 166,
   "outputs": [],
   "source": [
    "# eff_dim = EffDimRuntimeClient(\n",
    "#     service=service,\n",
    "#     qnn=qnn,\n",
    "#     mock_runtime=False,\n",
    "#     backend=backend,\n",
    "#     program_id = program_id\n",
    "# )\n",
    "#\n",
    "# out = eff_dim.compute_eff_dim(n, num_inputs=num_inputs, num_thetas=num_thetas)"
   ],
   "metadata": {
    "collapsed": false,
    "pycharm": {
     "name": "#%%\n"
    }
   }
  },
  {
   "cell_type": "code",
   "execution_count": 167,
   "outputs": [],
   "source": [
    "# print(out)"
   ],
   "metadata": {
    "collapsed": false,
    "pycharm": {
     "name": "#%%\n"
    }
   }
  },
  {
   "cell_type": "markdown",
   "source": [],
   "metadata": {
    "collapsed": false
   }
  },
  {
   "cell_type": "code",
   "execution_count": 168,
   "outputs": [],
   "source": [
    "import dill, base64\n",
    "from typing import List, Union, Callable, Optional, Any, Dict\n",
    "\n",
    "def obj_to_str(obj: Any) -> str:\n",
    "    \"\"\"Encodes any object into a JSON-compatible string using dill. The intermediate\n",
    "    binary data must be converted to base 64 to be able to decode into utf-8 format.\"\"\"\n",
    "    string = base64.b64encode(dill.dumps(obj, byref=False)).decode(\"utf-8\")\n",
    "    return string\n",
    "\n",
    "def str_to_obj(string: str) -> Any:\n",
    "    \"\"\"Decodes a previously encoded string using dill (with an intermediate step\n",
    "    converting the binary data from base 64).\"\"\"\n",
    "    obj = dill.loads(base64.b64decode(string.encode()))\n",
    "    return obj"
   ],
   "metadata": {
    "collapsed": false,
    "pycharm": {
     "name": "#%%\n"
    }
   }
  },
  {
   "cell_type": "code",
   "execution_count": 169,
   "outputs": [],
   "source": [
    "import numpy as np\n",
    "thetas = np.random.uniform(0, 1, size=(num_thetas, qnn.num_weights))\n",
    "inputs = np.random.normal(0, 1, size=(num_inputs, qnn.num_inputs))\n",
    "\n",
    "serial_inputs = inputs.tolist()\n",
    "serial_thetas = thetas.tolist()\n",
    "serial_qnn = obj_to_str(qnn)\n",
    "# define runtime options\n",
    "options = {\"backend_name\": backend.name}\n",
    "inputs = {\n",
    "            \"qnn\": serial_qnn,\n",
    "            \"inputs\": serial_inputs,\n",
    "            \"thetas\": serial_thetas,\n",
    "            \"shots\": 1024,\n",
    "            \"measurement_error_mitigation\": False,\n",
    "\n",
    "            }"
   ],
   "metadata": {
    "collapsed": false,
    "pycharm": {
     "name": "#%%\n"
    }
   }
  },
  {
   "cell_type": "code",
   "execution_count": 170,
   "outputs": [],
   "source": [
    "intermediate_info = {'args': []}\n",
    "\n",
    "def callback(idx, args):\n",
    "    print(args)\n",
    "    intermediate_info['args'].append(args)"
   ],
   "metadata": {
    "collapsed": false,
    "pycharm": {
     "name": "#%%\n"
    }
   }
  },
  {
   "cell_type": "code",
   "execution_count": 171,
   "outputs": [
    {
     "name": "stdout",
     "output_type": "stream",
     "text": [
      "t0:  1646751799.2500842\n",
      "JobStatus.QUEUED\n",
      "Beginning runtime program\n",
      "qml_version0.3.1\n",
      "Beginning runtime program\n",
      "qml_version0.3.1\n",
      "Grads: [[[0. 0. 0. 0. 0. 0.]\n",
      "  [0. 0. 0. 0. 0. 0.]]]\n",
      "Outputs: [[0. 0.]]\n",
      "Fwd: [[0.35380804 0.64619196]]\n",
      "Grads: [[[0. 0. 0. 0. 0. 0.]\n",
      "  [0. 0. 0. 0. 0. 0.]]]\n",
      "Outputs: [[0. 0.]]\n",
      "Fwd: [[0.35380804 0.64619196]]\n",
      "2022-03-08T15:03:32.296900897Z XXX lineno: 301, opcode: 129\n",
      "2022-03-08T15:03:32.301848498Z Traceback (most recent call last):\n",
      "2022-03-08T15:03:32.301848498Z   File \"/code/program_starter.py\", line 57, in <module>\n",
      "2022-03-08T15:03:32.301848498Z     starter.run(user_params, main)\n",
      "2022-03-08T15:03:32.301848498Z   File \"/provider/programruntime/program_starter_wrapper.py\", line 86, in run\n",
      "2022-03-08T15:03:32.301848498Z     final_result = main(backend, messenger, **user_params)\n",
      "2022-03-08T15:03:32.301848498Z   File \"/code/program.py\", line 305, in main\n",
      "2022-03-08T15:03:32.301848498Z     result = ed.eff_dim(n)\n",
      "2022-03-08T15:03:32.301848498Z   File \"/code/program.py\", line 170, in eff_dim\n",
      "2022-03-08T15:03:32.301848498Z     f_hat, trace = self.get_fhat()\n",
      "2022-03-08T15:03:32.301848498Z   File \"/code/program.py\", line 119, in get_fhat\n",
      "2022-03-08T15:03:32.301848498Z     grads, output = self.do_montecarlo()\n",
      "2022-03-08T15:03:32.301964899Z   File \"/code/program.py\", line 145, in do_montecarlo\n",
      "2022-03-08T15:03:32.301972802Z     back_pass = np.array(self.model.backward(input_data=self.x, weights=p)[1])\n",
      "2022-03-08T15:03:32.301972802Z   File \"/usr/local/lib/python3.8/site-packages/qiskit_machine_learning/neural_networks/neural_network.py\", line 228, in backward\n",
      "2022-03-08T15:03:32.301972802Z     input_grad, weight_grad = self._backward(input_, weights_)\n",
      "2022-03-08T15:03:32.301972802Z   File \"/usr/local/lib/python3.8/site-packages/qiskit_machine_learning/neural_networks/sampling_neural_network.py\", line 99, in _backward\n",
      "2022-03-08T15:03:32.301972802Z     return self._probability_gradients(input_data, weights)\n",
      "2022-03-08T15:03:32.301972802Z   File \"/usr/local/lib/python3.8/site-packages/qiskit_machine_learning/neural_networks/circuit_qnn.py\", line 469, in _probability_gradients\n",
      "2022-03-08T15:03:32.301972802Z     self._sampler.convert(self._gradient_circuit, param_values)\n",
      "2022-03-08T15:03:32.302023232Z   File \"/usr/local/lib/python3.8/site-packages/qiskit/opflow/list_ops/list_op.py\", line 433, in eval\n",
      "2022-03-08T15:03:32.302028617Z     evals = [op.eval(front) for op in self.oplist]\n",
      "2022-03-08T15:03:32.302032891Z   File \"/usr/local/lib/python3.8/site-packages/qiskit/opflow/list_ops/list_op.py\", line 433, in <listcomp>\n",
      "2022-03-08T15:03:32.302041832Z     evals = [op.eval(front) for op in self.oplist]\n",
      "2022-03-08T15:03:32.302041832Z   File \"/usr/local/lib/python3.8/site-packages/qiskit/opflow/list_ops/list_op.py\", line 449, in eval\n",
      "2022-03-08T15:03:32.302041832Z     result = self.combo_fn(evals)  # pylint: disable=not-callable\n",
      "2022-03-08T15:03:32.302041832Z   File \"/opt/anaconda3/envs/qml/lib/python3.10/site-packages/qiskit/opflow/gradients/circuit_gradients/param_shift.py\", line 301, in _prob_combo_fn\n",
      "2022-03-08T15:03:32.302041832Z   File \"/opt/anaconda3/envs/qml/lib/python3.10/site-packages/qiskit/opflow/gradients/circuit_gradients/param_shift.py\", line 301, in <genexpr>\n",
      "2022-03-08T15:03:32.302041832Z SystemError: unknown opcode\n",
      "\n"
     ]
    },
    {
     "ename": "RuntimeJobFailureError",
     "evalue": "'Unable to retrieve job result. Job c8jn0dor7l5c7vv47ipg has failed:\\n2022-03-08T15:03:32.296900897Z XXX lineno: 301, opcode: 129\\n2022-03-08T15:03:32.301848498Z Traceback (most recent call last):\\n2022-03-08T15:03:32.301848498Z   File \"/code/program_starter.py\", line 57, in <module>\\n2022-03-08T15:03:32.301848498Z     starter.run(user_params, main)\\n2022-03-08T15:03:32.301848498Z   File \"/provider/programruntime/program_starter_wrapper.py\", line 86, in run\\n2022-03-08T15:03:32.301848498Z     final_result = main(backend, messenger, **user_params)\\n2022-03-08T15:03:32.301848498Z   File \"/code/program.py\", line 305, in main\\n2022-03-08T15:03:32.301848498Z     result = ed.eff_dim(n)\\n2022-03-08T15:03:32.301848498Z   File \"/code/program.py\", line 170, in eff_dim\\n2022-03-08T15:03:32.301848498Z     f_hat, trace = self.get_fhat()\\n2022-03-08T15:03:32.301848498Z   File \"/code/program.py\", line 119, in get_fhat\\n2022-03-08T15:03:32.301848498Z     grads, output = self.do_montecarlo()\\n2022-03-08T15:03:32.301964899Z   File \"/code/program.py\", line 145, in do_montecarlo\\n2022-03-08T15:03:32.301972802Z     back_pass = np.array(self.model.backward(input_data=self.x, weights=p)[1])\\n2022-03-08T15:03:32.301972802Z   File \"/usr/local/lib/python3.8/site-packages/qiskit_machine_learning/neural_networks/neural_network.py\", line 228, in backward\\n2022-03-08T15:03:32.301972802Z     input_grad, weight_grad = self._backward(input_, weights_)\\n2022-03-08T15:03:32.301972802Z   File \"/usr/local/lib/python3.8/site-packages/qiskit_machine_learning/neural_networks/sampling_neural_network.py\", line 99, in _backward\\n2022-03-08T15:03:32.301972802Z     return self._probability_gradients(input_data, weights)\\n2022-03-08T15:03:32.301972802Z   File \"/usr/local/lib/python3.8/site-packages/qiskit_machine_learning/neural_networks/circuit_qnn.py\", line 469, in _probability_gradients\\n2022-03-08T15:03:32.301972802Z     self._sampler.convert(self._gradient_circuit, param_values)\\n2022-03-08T15:03:32.302023232Z   File \"/usr/local/lib/python3.8/site-packages/qiskit/opflow/list_ops/list_op.py\", line 433, in eval\\n2022-03-08T15:03:32.302028617Z     evals = [op.eval(front) for op in self.oplist]\\n2022-03-08T15:03:32.302032891Z   File \"/usr/local/lib/python3.8/site-packages/qiskit/opflow/list_ops/list_op.py\", line 433, in <listcomp>\\n2022-03-08T15:03:32.302041832Z     evals = [op.eval(front) for op in self.oplist]\\n2022-03-08T15:03:32.302041832Z   File \"/usr/local/lib/python3.8/site-packages/qiskit/opflow/list_ops/list_op.py\", line 449, in eval\\n2022-03-08T15:03:32.302041832Z     result = self.combo_fn(evals)  # pylint: disable=not-callable\\n2022-03-08T15:03:32.302041832Z   File \"/opt/anaconda3/envs/qml/lib/python3.10/site-packages/qiskit/opflow/gradients/circuit_gradients/param_shift.py\", line 301, in _prob_combo_fn\\n2022-03-08T15:03:32.302041832Z   File \"/opt/anaconda3/envs/qml/lib/python3.10/site-packages/qiskit/opflow/gradients/circuit_gradients/param_shift.py\", line 301, in <genexpr>\\n2022-03-08T15:03:32.302041832Z SystemError: unknown opcode\\n'",
     "output_type": "error",
     "traceback": [
      "\u001B[0;31m---------------------------------------------------------------------------\u001B[0m",
      "\u001B[0;31mRuntimeJobFailureError\u001B[0m                    Traceback (most recent call last)",
      "Input \u001B[0;32mIn [171]\u001B[0m, in \u001B[0;36m<cell line: 13>\u001B[0;34m()\u001B[0m\n\u001B[1;32m      4\u001B[0m job \u001B[38;5;241m=\u001B[39m service\u001B[38;5;241m.\u001B[39mrun(\n\u001B[1;32m      5\u001B[0m     program_id\u001B[38;5;241m=\u001B[39mprogram_id,\n\u001B[1;32m      6\u001B[0m     inputs\u001B[38;5;241m=\u001B[39minputs,\n\u001B[1;32m      7\u001B[0m     options\u001B[38;5;241m=\u001B[39moptions,\n\u001B[1;32m      8\u001B[0m     callback \u001B[38;5;241m=\u001B[39m callback\n\u001B[1;32m      9\u001B[0m )\n\u001B[1;32m     11\u001B[0m \u001B[38;5;28mprint\u001B[39m(job\u001B[38;5;241m.\u001B[39mstatus())\n\u001B[0;32m---> 13\u001B[0m result \u001B[38;5;241m=\u001B[39m \u001B[43mjob\u001B[49m\u001B[38;5;241;43m.\u001B[39;49m\u001B[43mresult\u001B[49m\u001B[43m(\u001B[49m\u001B[43m)\u001B[49m\n\u001B[1;32m     14\u001B[0m \u001B[38;5;28mprint\u001B[39m(job\u001B[38;5;241m.\u001B[39mstatus())\n\u001B[1;32m     15\u001B[0m \u001B[38;5;28mprint\u001B[39m(\u001B[38;5;124m\"\u001B[39m\u001B[38;5;124mt1: \u001B[39m\u001B[38;5;124m\"\u001B[39m, time\u001B[38;5;241m.\u001B[39mtime())\n",
      "File \u001B[0;32m/opt/anaconda3/envs/qml/lib/python3.10/site-packages/qiskit_ibm_runtime/runtime_job.py:178\u001B[0m, in \u001B[0;36mRuntimeJob.result\u001B[0;34m(self, timeout, decoder)\u001B[0m\n\u001B[1;32m    176\u001B[0m \u001B[38;5;28mself\u001B[39m\u001B[38;5;241m.\u001B[39mwait_for_final_state(timeout\u001B[38;5;241m=\u001B[39mtimeout)\n\u001B[1;32m    177\u001B[0m \u001B[38;5;28;01mif\u001B[39;00m \u001B[38;5;28mself\u001B[39m\u001B[38;5;241m.\u001B[39m_status \u001B[38;5;241m==\u001B[39m JobStatus\u001B[38;5;241m.\u001B[39mERROR:\n\u001B[0;32m--> 178\u001B[0m     \u001B[38;5;28;01mraise\u001B[39;00m RuntimeJobFailureError(\n\u001B[1;32m    179\u001B[0m         \u001B[38;5;124mf\u001B[39m\u001B[38;5;124m\"\u001B[39m\u001B[38;5;124mUnable to retrieve job result. \u001B[39m\u001B[38;5;124m\"\u001B[39m \u001B[38;5;124mf\u001B[39m\u001B[38;5;124m\"\u001B[39m\u001B[38;5;132;01m{\u001B[39;00m\u001B[38;5;28mself\u001B[39m\u001B[38;5;241m.\u001B[39merror_message()\u001B[38;5;132;01m}\u001B[39;00m\u001B[38;5;124m\"\u001B[39m\n\u001B[1;32m    180\u001B[0m     )\n\u001B[1;32m    181\u001B[0m result_raw \u001B[38;5;241m=\u001B[39m \u001B[38;5;28mself\u001B[39m\u001B[38;5;241m.\u001B[39m_api_client\u001B[38;5;241m.\u001B[39mjob_results(job_id\u001B[38;5;241m=\u001B[39m\u001B[38;5;28mself\u001B[39m\u001B[38;5;241m.\u001B[39mjob_id)\n\u001B[1;32m    182\u001B[0m \u001B[38;5;28mself\u001B[39m\u001B[38;5;241m.\u001B[39m_results \u001B[38;5;241m=\u001B[39m _decoder\u001B[38;5;241m.\u001B[39mdecode(result_raw)\n",
      "\u001B[0;31mRuntimeJobFailureError\u001B[0m: 'Unable to retrieve job result. Job c8jn0dor7l5c7vv47ipg has failed:\\n2022-03-08T15:03:32.296900897Z XXX lineno: 301, opcode: 129\\n2022-03-08T15:03:32.301848498Z Traceback (most recent call last):\\n2022-03-08T15:03:32.301848498Z   File \"/code/program_starter.py\", line 57, in <module>\\n2022-03-08T15:03:32.301848498Z     starter.run(user_params, main)\\n2022-03-08T15:03:32.301848498Z   File \"/provider/programruntime/program_starter_wrapper.py\", line 86, in run\\n2022-03-08T15:03:32.301848498Z     final_result = main(backend, messenger, **user_params)\\n2022-03-08T15:03:32.301848498Z   File \"/code/program.py\", line 305, in main\\n2022-03-08T15:03:32.301848498Z     result = ed.eff_dim(n)\\n2022-03-08T15:03:32.301848498Z   File \"/code/program.py\", line 170, in eff_dim\\n2022-03-08T15:03:32.301848498Z     f_hat, trace = self.get_fhat()\\n2022-03-08T15:03:32.301848498Z   File \"/code/program.py\", line 119, in get_fhat\\n2022-03-08T15:03:32.301848498Z     grads, output = self.do_montecarlo()\\n2022-03-08T15:03:32.301964899Z   File \"/code/program.py\", line 145, in do_montecarlo\\n2022-03-08T15:03:32.301972802Z     back_pass = np.array(self.model.backward(input_data=self.x, weights=p)[1])\\n2022-03-08T15:03:32.301972802Z   File \"/usr/local/lib/python3.8/site-packages/qiskit_machine_learning/neural_networks/neural_network.py\", line 228, in backward\\n2022-03-08T15:03:32.301972802Z     input_grad, weight_grad = self._backward(input_, weights_)\\n2022-03-08T15:03:32.301972802Z   File \"/usr/local/lib/python3.8/site-packages/qiskit_machine_learning/neural_networks/sampling_neural_network.py\", line 99, in _backward\\n2022-03-08T15:03:32.301972802Z     return self._probability_gradients(input_data, weights)\\n2022-03-08T15:03:32.301972802Z   File \"/usr/local/lib/python3.8/site-packages/qiskit_machine_learning/neural_networks/circuit_qnn.py\", line 469, in _probability_gradients\\n2022-03-08T15:03:32.301972802Z     self._sampler.convert(self._gradient_circuit, param_values)\\n2022-03-08T15:03:32.302023232Z   File \"/usr/local/lib/python3.8/site-packages/qiskit/opflow/list_ops/list_op.py\", line 433, in eval\\n2022-03-08T15:03:32.302028617Z     evals = [op.eval(front) for op in self.oplist]\\n2022-03-08T15:03:32.302032891Z   File \"/usr/local/lib/python3.8/site-packages/qiskit/opflow/list_ops/list_op.py\", line 433, in <listcomp>\\n2022-03-08T15:03:32.302041832Z     evals = [op.eval(front) for op in self.oplist]\\n2022-03-08T15:03:32.302041832Z   File \"/usr/local/lib/python3.8/site-packages/qiskit/opflow/list_ops/list_op.py\", line 449, in eval\\n2022-03-08T15:03:32.302041832Z     result = self.combo_fn(evals)  # pylint: disable=not-callable\\n2022-03-08T15:03:32.302041832Z   File \"/opt/anaconda3/envs/qml/lib/python3.10/site-packages/qiskit/opflow/gradients/circuit_gradients/param_shift.py\", line 301, in _prob_combo_fn\\n2022-03-08T15:03:32.302041832Z   File \"/opt/anaconda3/envs/qml/lib/python3.10/site-packages/qiskit/opflow/gradients/circuit_gradients/param_shift.py\", line 301, in <genexpr>\\n2022-03-08T15:03:32.302041832Z SystemError: unknown opcode\\n'"
     ]
    }
   ],
   "source": [
    "# send job to runtime and return result\n",
    "import time\n",
    "print(\"t0: \", time.time())\n",
    "job = service.run(\n",
    "    program_id=program_id,\n",
    "    inputs=inputs,\n",
    "    options=options,\n",
    "    callback = callback\n",
    ")\n",
    "\n",
    "print(job.status())\n",
    "\n",
    "result = job.result()\n",
    "print(job.status())\n",
    "print(\"t1: \", time.time())\n",
    "# # print job ID if something goes wrong\n",
    "# try:\n",
    "#     result = job.result()\n",
    "# except Exception as exc:\n",
    "#     raise RuntimeError(f\"The job {job.job_id()} failed unexpectedly.\") from exc"
   ],
   "metadata": {
    "collapsed": false,
    "pycharm": {
     "name": "#%%\n"
    }
   }
  },
  {
   "cell_type": "code",
   "execution_count": null,
   "outputs": [],
   "source": [
    "print(job.status())\n",
    "print(result)\n",
    "job.cancel()\n",
    "print(job.status())"
   ],
   "metadata": {
    "collapsed": false,
    "pycharm": {
     "name": "#%%\n"
    }
   }
  },
  {
   "cell_type": "markdown",
   "source": [],
   "metadata": {
    "collapsed": false
   }
  },
  {
   "cell_type": "code",
   "execution_count": null,
   "outputs": [],
   "source": [],
   "metadata": {
    "collapsed": false,
    "pycharm": {
     "name": "#%%\n"
    }
   }
  }
 ],
 "metadata": {
  "kernelspec": {
   "display_name": "Python 3",
   "language": "python",
   "name": "python3"
  },
  "language_info": {
   "codemirror_mode": {
    "name": "ipython",
    "version": 2
   },
   "file_extension": ".py",
   "mimetype": "text/x-python",
   "name": "python",
   "nbconvert_exporter": "python",
   "pygments_lexer": "ipython2",
   "version": "2.7.6"
  }
 },
 "nbformat": 4,
 "nbformat_minor": 0
}